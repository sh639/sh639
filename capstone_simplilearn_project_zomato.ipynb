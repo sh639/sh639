{
  "cells": [
    {
      "cell_type": "markdown",
      "metadata": {
        "id": "view-in-github",
        "colab_type": "text"
      },
      "source": [
        "<a href=\"https://colab.research.google.com/github/sh639/sh639/blob/main/capstone_simplilearn_project_zomato.ipynb\" target=\"_parent\"><img src=\"https://colab.research.google.com/assets/colab-badge.svg\" alt=\"Open In Colab\"/></a>"
      ]
    },
    {
      "cell_type": "code",
      "execution_count": null,
      "id": "96f7820c",
      "metadata": {
        "id": "96f7820c"
      },
      "outputs": [],
      "source": [
        "# 1.  Perform preliminary data inspection and report the findings as --\n",
        "# -- the structure of the data, missing values, duplicates, etc.\n",
        "\n",
        "# 2.  Based on the findings from the previous questions, identify duplicates and remove them"
      ]
    },
    {
      "cell_type": "code",
      "execution_count": null,
      "id": "3f49d0c0",
      "metadata": {
        "id": "3f49d0c0"
      },
      "outputs": [],
      "source": [
        "import numpy as np\n",
        "import pandas as pd\n",
        "import seaborn as sns\n",
        "import matplotlib.pyplot as plt"
      ]
    },
    {
      "cell_type": "code",
      "execution_count": null,
      "id": "a4888ea7",
      "metadata": {
        "id": "a4888ea7"
      },
      "outputs": [],
      "source": [
        "Raw_data = pd.read_excel(\"data.xlsx\")"
      ]
    },
    {
      "cell_type": "code",
      "execution_count": null,
      "id": "ef8f8a34",
      "metadata": {
        "scrolled": false,
        "id": "ef8f8a34",
        "outputId": "708e0c36-42aa-4d23-df85-20bc45886448"
      },
      "outputs": [
        {
          "name": "stdout",
          "output_type": "stream",
          "text": [
            "<class 'pandas.core.frame.DataFrame'>\n",
            "RangeIndex: 9551 entries, 0 to 9550\n",
            "Data columns (total 19 columns):\n",
            " #   Column                Non-Null Count  Dtype  \n",
            "---  ------                --------------  -----  \n",
            " 0   Restaurant ID         9551 non-null   int64  \n",
            " 1   Restaurant Name       9550 non-null   object \n",
            " 2   Country Code          9551 non-null   int64  \n",
            " 3   City                  9551 non-null   object \n",
            " 4   Address               9551 non-null   object \n",
            " 5   Locality              9551 non-null   object \n",
            " 6   Locality Verbose      9551 non-null   object \n",
            " 7   Longitude             9551 non-null   float64\n",
            " 8   Latitude              9551 non-null   float64\n",
            " 9   Cuisines              9542 non-null   object \n",
            " 10  Average Cost for two  9551 non-null   int64  \n",
            " 11  Currency              9551 non-null   object \n",
            " 12  Has Table booking     9551 non-null   object \n",
            " 13  Has Online delivery   9551 non-null   object \n",
            " 14  Price range           9551 non-null   int64  \n",
            " 15  Aggregate rating      9551 non-null   float64\n",
            " 16  Rating color          9551 non-null   object \n",
            " 17  Rating text           9551 non-null   object \n",
            " 18  Votes                 9551 non-null   int64  \n",
            "dtypes: float64(3), int64(5), object(11)\n",
            "memory usage: 1.4+ MB\n"
          ]
        }
      ],
      "source": [
        "Raw_data.info()"
      ]
    },
    {
      "cell_type": "code",
      "execution_count": null,
      "id": "f8855b0f",
      "metadata": {
        "scrolled": false,
        "id": "f8855b0f",
        "outputId": "3d1d6093-36c4-432e-9e35-2eccccc2af6f"
      },
      "outputs": [
        {
          "data": {
            "text/html": [
              "<div>\n",
              "<style scoped>\n",
              "    .dataframe tbody tr th:only-of-type {\n",
              "        vertical-align: middle;\n",
              "    }\n",
              "\n",
              "    .dataframe tbody tr th {\n",
              "        vertical-align: top;\n",
              "    }\n",
              "\n",
              "    .dataframe thead th {\n",
              "        text-align: right;\n",
              "    }\n",
              "</style>\n",
              "<table border=\"1\" class=\"dataframe\">\n",
              "  <thead>\n",
              "    <tr style=\"text-align: right;\">\n",
              "      <th></th>\n",
              "      <th>Restaurant_ID</th>\n",
              "      <th>Restaurant_Name</th>\n",
              "      <th>Country_Code</th>\n",
              "      <th>City</th>\n",
              "      <th>Address</th>\n",
              "      <th>Locality</th>\n",
              "      <th>Locality_Verbose</th>\n",
              "      <th>Longitude</th>\n",
              "      <th>Latitude</th>\n",
              "      <th>Cuisines</th>\n",
              "      <th>Average_Cost_for_two</th>\n",
              "      <th>Currency</th>\n",
              "      <th>Has_Table_booking</th>\n",
              "      <th>Has_Online_delivery</th>\n",
              "      <th>Price_range</th>\n",
              "      <th>Aggregate_rating</th>\n",
              "      <th>Rating_color</th>\n",
              "      <th>Rating_text</th>\n",
              "      <th>Votes</th>\n",
              "    </tr>\n",
              "  </thead>\n",
              "  <tbody>\n",
              "    <tr>\n",
              "      <th>0</th>\n",
              "      <td>7402935</td>\n",
              "      <td>Skye</td>\n",
              "      <td>94</td>\n",
              "      <td>Jakarta</td>\n",
              "      <td>Menara BCA, Lantai 56, Jl. MH. Thamrin, Thamri...</td>\n",
              "      <td>Grand Indonesia Mall, Thamrin</td>\n",
              "      <td>Grand Indonesia Mall, Thamrin, Jakarta</td>\n",
              "      <td>106.821999</td>\n",
              "      <td>-6.196778</td>\n",
              "      <td>Italian, Continental</td>\n",
              "      <td>800000</td>\n",
              "      <td>Indonesian Rupiah(IDR)</td>\n",
              "      <td>No</td>\n",
              "      <td>No</td>\n",
              "      <td>3</td>\n",
              "      <td>4.1</td>\n",
              "      <td>Green</td>\n",
              "      <td>Very Good</td>\n",
              "      <td>1498</td>\n",
              "    </tr>\n",
              "    <tr>\n",
              "      <th>1</th>\n",
              "      <td>7410290</td>\n",
              "      <td>Satoo - Hotel Shangri-La</td>\n",
              "      <td>94</td>\n",
              "      <td>Jakarta</td>\n",
              "      <td>Hotel Shangri-La, Jl. Jend. Sudirman</td>\n",
              "      <td>Hotel Shangri-La, Sudirman</td>\n",
              "      <td>Hotel Shangri-La, Sudirman, Jakarta</td>\n",
              "      <td>106.818961</td>\n",
              "      <td>-6.203292</td>\n",
              "      <td>Asian, Indonesian, Western</td>\n",
              "      <td>800000</td>\n",
              "      <td>Indonesian Rupiah(IDR)</td>\n",
              "      <td>No</td>\n",
              "      <td>No</td>\n",
              "      <td>3</td>\n",
              "      <td>4.6</td>\n",
              "      <td>Dark Green</td>\n",
              "      <td>Excellent</td>\n",
              "      <td>873</td>\n",
              "    </tr>\n",
              "    <tr>\n",
              "      <th>2</th>\n",
              "      <td>7420899</td>\n",
              "      <td>Sushi Masa</td>\n",
              "      <td>94</td>\n",
              "      <td>Jakarta</td>\n",
              "      <td>Jl. Tuna Raya No. 5, Penjaringan</td>\n",
              "      <td>Penjaringan</td>\n",
              "      <td>Penjaringan, Jakarta</td>\n",
              "      <td>106.800144</td>\n",
              "      <td>-6.101298</td>\n",
              "      <td>Sushi, Japanese</td>\n",
              "      <td>500000</td>\n",
              "      <td>Indonesian Rupiah(IDR)</td>\n",
              "      <td>No</td>\n",
              "      <td>No</td>\n",
              "      <td>3</td>\n",
              "      <td>4.9</td>\n",
              "      <td>Dark Green</td>\n",
              "      <td>Excellent</td>\n",
              "      <td>605</td>\n",
              "    </tr>\n",
              "    <tr>\n",
              "      <th>3</th>\n",
              "      <td>7421967</td>\n",
              "      <td>3 Wise Monkeys</td>\n",
              "      <td>94</td>\n",
              "      <td>Jakarta</td>\n",
              "      <td>Jl. Suryo No. 26, Senopati, Jakarta</td>\n",
              "      <td>Senopati</td>\n",
              "      <td>Senopati, Jakarta</td>\n",
              "      <td>106.813400</td>\n",
              "      <td>-6.235241</td>\n",
              "      <td>Japanese</td>\n",
              "      <td>450000</td>\n",
              "      <td>Indonesian Rupiah(IDR)</td>\n",
              "      <td>No</td>\n",
              "      <td>No</td>\n",
              "      <td>3</td>\n",
              "      <td>4.2</td>\n",
              "      <td>Green</td>\n",
              "      <td>Very Good</td>\n",
              "      <td>395</td>\n",
              "    </tr>\n",
              "    <tr>\n",
              "      <th>4</th>\n",
              "      <td>7422489</td>\n",
              "      <td>Avec Moi Restaurant and Bar</td>\n",
              "      <td>94</td>\n",
              "      <td>Jakarta</td>\n",
              "      <td>Gedung PIC, Jl. Teluk Betung 43, Thamrin, Jakarta</td>\n",
              "      <td>Thamrin</td>\n",
              "      <td>Thamrin, Jakarta</td>\n",
              "      <td>106.821023</td>\n",
              "      <td>-6.196270</td>\n",
              "      <td>French, Western</td>\n",
              "      <td>350000</td>\n",
              "      <td>Indonesian Rupiah(IDR)</td>\n",
              "      <td>No</td>\n",
              "      <td>No</td>\n",
              "      <td>3</td>\n",
              "      <td>4.3</td>\n",
              "      <td>Green</td>\n",
              "      <td>Very Good</td>\n",
              "      <td>243</td>\n",
              "    </tr>\n",
              "    <tr>\n",
              "      <th>5</th>\n",
              "      <td>18352452</td>\n",
              "      <td>Lucky Cat Coffee &amp; Kitchen</td>\n",
              "      <td>94</td>\n",
              "      <td>Jakarta</td>\n",
              "      <td>Plaza Festival, South Parking, Jl. HR Rasuna S...</td>\n",
              "      <td>Plaza Festival, Kuningan</td>\n",
              "      <td>Plaza Festival, Kuningan, Jakarta</td>\n",
              "      <td>106.831748</td>\n",
              "      <td>-6.218932</td>\n",
              "      <td>Cafe, Western</td>\n",
              "      <td>300000</td>\n",
              "      <td>Indonesian Rupiah(IDR)</td>\n",
              "      <td>No</td>\n",
              "      <td>No</td>\n",
              "      <td>3</td>\n",
              "      <td>4.3</td>\n",
              "      <td>Green</td>\n",
              "      <td>Very Good</td>\n",
              "      <td>458</td>\n",
              "    </tr>\n",
              "    <tr>\n",
              "      <th>6</th>\n",
              "      <td>18386856</td>\n",
              "      <td>Onokabe</td>\n",
              "      <td>94</td>\n",
              "      <td>Tangerang</td>\n",
              "      <td>Alam Sutera Town Center, Jl. Alam Utama, Serpo...</td>\n",
              "      <td>Alam Sutera Town Center, Serpong Utara</td>\n",
              "      <td>Alam Sutera Town Center, Serpong Utara, Tangerang</td>\n",
              "      <td>106.652688</td>\n",
              "      <td>-6.241792</td>\n",
              "      <td>Indonesian</td>\n",
              "      <td>300000</td>\n",
              "      <td>Indonesian Rupiah(IDR)</td>\n",
              "      <td>No</td>\n",
              "      <td>No</td>\n",
              "      <td>3</td>\n",
              "      <td>3.7</td>\n",
              "      <td>Yellow</td>\n",
              "      <td>Good</td>\n",
              "      <td>155</td>\n",
              "    </tr>\n",
              "    <tr>\n",
              "      <th>7</th>\n",
              "      <td>7423482</td>\n",
              "      <td>Lemongrass</td>\n",
              "      <td>94</td>\n",
              "      <td>Bogor</td>\n",
              "      <td>Jl. Raya Pajajaran No. 21, Bogor Utara, Bogor</td>\n",
              "      <td>Bogor Utara</td>\n",
              "      <td>Bogor Utara, Bogor</td>\n",
              "      <td>106.807850</td>\n",
              "      <td>-6.576578</td>\n",
              "      <td>Peranakan, Indonesian</td>\n",
              "      <td>250000</td>\n",
              "      <td>Indonesian Rupiah(IDR)</td>\n",
              "      <td>No</td>\n",
              "      <td>No</td>\n",
              "      <td>3</td>\n",
              "      <td>4.0</td>\n",
              "      <td>Green</td>\n",
              "      <td>Very Good</td>\n",
              "      <td>1159</td>\n",
              "    </tr>\n",
              "    <tr>\n",
              "      <th>8</th>\n",
              "      <td>18391256</td>\n",
              "      <td>MONKS</td>\n",
              "      <td>94</td>\n",
              "      <td>Jakarta</td>\n",
              "      <td>Komplek Graha Boulevard Timur, Summarecon Kela...</td>\n",
              "      <td>Kelapa Gading</td>\n",
              "      <td>Kelapa Gading, Jakarta</td>\n",
              "      <td>106.911335</td>\n",
              "      <td>-6.163948</td>\n",
              "      <td>Western, Asian, Cafe</td>\n",
              "      <td>250000</td>\n",
              "      <td>Indonesian Rupiah(IDR)</td>\n",
              "      <td>No</td>\n",
              "      <td>No</td>\n",
              "      <td>3</td>\n",
              "      <td>4.2</td>\n",
              "      <td>Green</td>\n",
              "      <td>Very Good</td>\n",
              "      <td>259</td>\n",
              "    </tr>\n",
              "    <tr>\n",
              "      <th>9</th>\n",
              "      <td>7422633</td>\n",
              "      <td>Talaga Sampireun</td>\n",
              "      <td>94</td>\n",
              "      <td>Jakarta</td>\n",
              "      <td>Jl. Lingkar Luar Barat</td>\n",
              "      <td>Cengkareng</td>\n",
              "      <td>Cengkareng, Jakarta</td>\n",
              "      <td>106.728508</td>\n",
              "      <td>-6.168467</td>\n",
              "      <td>Sunda, Indonesian</td>\n",
              "      <td>200000</td>\n",
              "      <td>Indonesian Rupiah(IDR)</td>\n",
              "      <td>No</td>\n",
              "      <td>No</td>\n",
              "      <td>3</td>\n",
              "      <td>4.9</td>\n",
              "      <td>Dark Green</td>\n",
              "      <td>Excellent</td>\n",
              "      <td>1662</td>\n",
              "    </tr>\n",
              "    <tr>\n",
              "      <th>10</th>\n",
              "      <td>18425821</td>\n",
              "      <td>OJJU</td>\n",
              "      <td>94</td>\n",
              "      <td>Jakarta</td>\n",
              "      <td>Gandaria City, Lantai Upper Ground, Jl. Sultan...</td>\n",
              "      <td>Gandaria City Mall, Gandaria</td>\n",
              "      <td>Gandaria City Mall, Gandaria, Jakarta</td>\n",
              "      <td>106.783162</td>\n",
              "      <td>-6.244221</td>\n",
              "      <td>Korean</td>\n",
              "      <td>200000</td>\n",
              "      <td>Indonesian Rupiah(IDR)</td>\n",
              "      <td>No</td>\n",
              "      <td>No</td>\n",
              "      <td>3</td>\n",
              "      <td>3.9</td>\n",
              "      <td>Yellow</td>\n",
              "      <td>Good</td>\n",
              "      <td>137</td>\n",
              "    </tr>\n",
              "    <tr>\n",
              "      <th>11</th>\n",
              "      <td>7422751</td>\n",
              "      <td>Union Deli</td>\n",
              "      <td>94</td>\n",
              "      <td>Jakarta</td>\n",
              "      <td>Grand Indonesia Mall, Lantai Ground, East Mall...</td>\n",
              "      <td>Grand Indonesia Mall, Thamrin</td>\n",
              "      <td>Grand Indonesia Mall, Thamrin, Jakarta</td>\n",
              "      <td>106.819749</td>\n",
              "      <td>-6.197150</td>\n",
              "      <td>Desserts, Bakery, Western</td>\n",
              "      <td>200000</td>\n",
              "      <td>Indonesian Rupiah(IDR)</td>\n",
              "      <td>No</td>\n",
              "      <td>No</td>\n",
              "      <td>3</td>\n",
              "      <td>4.6</td>\n",
              "      <td>Dark Green</td>\n",
              "      <td>Excellent</td>\n",
              "      <td>903</td>\n",
              "    </tr>\n",
              "    <tr>\n",
              "      <th>12</th>\n",
              "      <td>7400818</td>\n",
              "      <td>Zenbu</td>\n",
              "      <td>94</td>\n",
              "      <td>Jakarta</td>\n",
              "      <td>Kota Kasablanka, Lantai Upper Ground, Food Soc...</td>\n",
              "      <td>Kota Kasablanka, Tebet</td>\n",
              "      <td>Kota Kasablanka, Tebet, Jakarta</td>\n",
              "      <td>106.842500</td>\n",
              "      <td>-6.224333</td>\n",
              "      <td>Japanese, Sushi, Ramen</td>\n",
              "      <td>200000</td>\n",
              "      <td>Indonesian Rupiah(IDR)</td>\n",
              "      <td>No</td>\n",
              "      <td>No</td>\n",
              "      <td>3</td>\n",
              "      <td>4.4</td>\n",
              "      <td>Green</td>\n",
              "      <td>Very Good</td>\n",
              "      <td>841</td>\n",
              "    </tr>\n",
              "    <tr>\n",
              "      <th>13</th>\n",
              "      <td>7417455</td>\n",
              "      <td>Talaga Sampireun</td>\n",
              "      <td>94</td>\n",
              "      <td>Jakarta</td>\n",
              "      <td>Taman Impian Jaya Ancol, Jl. Lapangan Golf 7, ...</td>\n",
              "      <td>Taman Impian Jaya Ancol, Ancol</td>\n",
              "      <td>Taman Impian Jaya Ancol, Ancol, Jakarta</td>\n",
              "      <td>106.833553</td>\n",
              "      <td>-6.126860</td>\n",
              "      <td>Sunda, Indonesian</td>\n",
              "      <td>200000</td>\n",
              "      <td>Indonesian Rupiah(IDR)</td>\n",
              "      <td>No</td>\n",
              "      <td>No</td>\n",
              "      <td>3</td>\n",
              "      <td>4.9</td>\n",
              "      <td>Dark Green</td>\n",
              "      <td>Excellent</td>\n",
              "      <td>1640</td>\n",
              "    </tr>\n",
              "    <tr>\n",
              "      <th>14</th>\n",
              "      <td>7417450</td>\n",
              "      <td>Talaga Sampireun</td>\n",
              "      <td>94</td>\n",
              "      <td>Tangerang</td>\n",
              "      <td>Jl. Boulevard Bintaro Jaya Blok B7/N1, Bintaro...</td>\n",
              "      <td>Pondok Aren</td>\n",
              "      <td>Pondok Aren, Tangerang</td>\n",
              "      <td>106.726119</td>\n",
              "      <td>-6.269914</td>\n",
              "      <td>Sunda, Indonesian</td>\n",
              "      <td>200000</td>\n",
              "      <td>Indonesian Rupiah(IDR)</td>\n",
              "      <td>No</td>\n",
              "      <td>No</td>\n",
              "      <td>3</td>\n",
              "      <td>4.9</td>\n",
              "      <td>Dark Green</td>\n",
              "      <td>Excellent</td>\n",
              "      <td>2212</td>\n",
              "    </tr>\n",
              "    <tr>\n",
              "      <th>15</th>\n",
              "      <td>7405789</td>\n",
              "      <td>Toodz House</td>\n",
              "      <td>94</td>\n",
              "      <td>Jakarta</td>\n",
              "      <td>Jl. Cipete Raya No. 79, Fatmawati, Jakarta</td>\n",
              "      <td>Fatmawati</td>\n",
              "      <td>Fatmawati, Jakarta</td>\n",
              "      <td>106.801782</td>\n",
              "      <td>-6.278012</td>\n",
              "      <td>Cafe, Italian, Coffee and Tea, Western, Indone...</td>\n",
              "      <td>165000</td>\n",
              "      <td>Indonesian Rupiah(IDR)</td>\n",
              "      <td>No</td>\n",
              "      <td>No</td>\n",
              "      <td>3</td>\n",
              "      <td>4.6</td>\n",
              "      <td>Dark Green</td>\n",
              "      <td>Excellent</td>\n",
              "      <td>1476</td>\n",
              "    </tr>\n",
              "    <tr>\n",
              "      <th>16</th>\n",
              "      <td>18400530</td>\n",
              "      <td>Noah's Barn Coffeenery</td>\n",
              "      <td>94</td>\n",
              "      <td>Bandung</td>\n",
              "      <td>Jl. Dayang Sumbi No. 2, Dago, Bandung</td>\n",
              "      <td>Dago</td>\n",
              "      <td>Dago, Bandung</td>\n",
              "      <td>107.612790</td>\n",
              "      <td>-6.887058</td>\n",
              "      <td>Cafe, Coffee and Tea, Western</td>\n",
              "      <td>150000</td>\n",
              "      <td>Indonesian Rupiah(IDR)</td>\n",
              "      <td>No</td>\n",
              "      <td>No</td>\n",
              "      <td>3</td>\n",
              "      <td>4.2</td>\n",
              "      <td>Green</td>\n",
              "      <td>Very Good</td>\n",
              "      <td>22</td>\n",
              "    </tr>\n",
              "    <tr>\n",
              "      <th>17</th>\n",
              "      <td>18370659</td>\n",
              "      <td>Flip Burger</td>\n",
              "      <td>94</td>\n",
              "      <td>Jakarta</td>\n",
              "      <td>Jl. Senopati No. 27, Senopati, Jakarta</td>\n",
              "      <td>Senopati</td>\n",
              "      <td>Senopati, Jakarta</td>\n",
              "      <td>106.808550</td>\n",
              "      <td>-6.230775</td>\n",
              "      <td>Burger</td>\n",
              "      <td>120000</td>\n",
              "      <td>Indonesian Rupiah(IDR)</td>\n",
              "      <td>No</td>\n",
              "      <td>No</td>\n",
              "      <td>3</td>\n",
              "      <td>4.4</td>\n",
              "      <td>Green</td>\n",
              "      <td>Very Good</td>\n",
              "      <td>410</td>\n",
              "    </tr>\n",
              "    <tr>\n",
              "      <th>18</th>\n",
              "      <td>18409146</td>\n",
              "      <td>Fish Streat</td>\n",
              "      <td>94</td>\n",
              "      <td>Jakarta</td>\n",
              "      <td>Jl. Tanjung Duren Utara III, Blok M Kav. 32, T...</td>\n",
              "      <td>Tanjung Duren</td>\n",
              "      <td>Tanjung Duren, Jakarta</td>\n",
              "      <td>0.000000</td>\n",
              "      <td>0.000000</td>\n",
              "      <td>Seafood, Western</td>\n",
              "      <td>100000</td>\n",
              "      <td>Indonesian Rupiah(IDR)</td>\n",
              "      <td>No</td>\n",
              "      <td>No</td>\n",
              "      <td>3</td>\n",
              "      <td>3.4</td>\n",
              "      <td>Orange</td>\n",
              "      <td>Average</td>\n",
              "      <td>152</td>\n",
              "    </tr>\n",
              "    <tr>\n",
              "      <th>19</th>\n",
              "      <td>18408381</td>\n",
              "      <td>Fish Streat</td>\n",
              "      <td>94</td>\n",
              "      <td>Jakarta</td>\n",
              "      <td>Jl. Tebet Timur Dalam Raya 44B, Tebet, Jakarta</td>\n",
              "      <td>Tebet</td>\n",
              "      <td>Tebet, Jakarta</td>\n",
              "      <td>106.856413</td>\n",
              "      <td>-6.232816</td>\n",
              "      <td>Seafood, Western</td>\n",
              "      <td>100000</td>\n",
              "      <td>Indonesian Rupiah(IDR)</td>\n",
              "      <td>No</td>\n",
              "      <td>No</td>\n",
              "      <td>3</td>\n",
              "      <td>4.0</td>\n",
              "      <td>Green</td>\n",
              "      <td>Very Good</td>\n",
              "      <td>331</td>\n",
              "    </tr>\n",
              "  </tbody>\n",
              "</table>\n",
              "</div>"
            ],
            "text/plain": [
              "    Restaurant_ID              Restaurant_Name  Country_Code       City  \\\n",
              "0         7402935                         Skye            94    Jakarta   \n",
              "1         7410290     Satoo - Hotel Shangri-La            94    Jakarta   \n",
              "2         7420899                   Sushi Masa            94    Jakarta   \n",
              "3         7421967               3 Wise Monkeys            94    Jakarta   \n",
              "4         7422489  Avec Moi Restaurant and Bar            94    Jakarta   \n",
              "5        18352452   Lucky Cat Coffee & Kitchen            94    Jakarta   \n",
              "6        18386856                      Onokabe            94  Tangerang   \n",
              "7         7423482                   Lemongrass            94      Bogor   \n",
              "8        18391256                        MONKS            94    Jakarta   \n",
              "9         7422633             Talaga Sampireun            94    Jakarta   \n",
              "10       18425821                         OJJU            94    Jakarta   \n",
              "11        7422751                   Union Deli            94    Jakarta   \n",
              "12        7400818                        Zenbu            94    Jakarta   \n",
              "13        7417455             Talaga Sampireun            94    Jakarta   \n",
              "14        7417450             Talaga Sampireun            94  Tangerang   \n",
              "15        7405789                  Toodz House            94    Jakarta   \n",
              "16       18400530       Noah's Barn Coffeenery            94    Bandung   \n",
              "17       18370659                  Flip Burger            94    Jakarta   \n",
              "18       18409146                  Fish Streat            94    Jakarta   \n",
              "19       18408381                  Fish Streat            94    Jakarta   \n",
              "\n",
              "                                              Address  \\\n",
              "0   Menara BCA, Lantai 56, Jl. MH. Thamrin, Thamri...   \n",
              "1                Hotel Shangri-La, Jl. Jend. Sudirman   \n",
              "2                    Jl. Tuna Raya No. 5, Penjaringan   \n",
              "3                 Jl. Suryo No. 26, Senopati, Jakarta   \n",
              "4   Gedung PIC, Jl. Teluk Betung 43, Thamrin, Jakarta   \n",
              "5   Plaza Festival, South Parking, Jl. HR Rasuna S...   \n",
              "6   Alam Sutera Town Center, Jl. Alam Utama, Serpo...   \n",
              "7       Jl. Raya Pajajaran No. 21, Bogor Utara, Bogor   \n",
              "8   Komplek Graha Boulevard Timur, Summarecon Kela...   \n",
              "9                              Jl. Lingkar Luar Barat   \n",
              "10  Gandaria City, Lantai Upper Ground, Jl. Sultan...   \n",
              "11  Grand Indonesia Mall, Lantai Ground, East Mall...   \n",
              "12  Kota Kasablanka, Lantai Upper Ground, Food Soc...   \n",
              "13  Taman Impian Jaya Ancol, Jl. Lapangan Golf 7, ...   \n",
              "14  Jl. Boulevard Bintaro Jaya Blok B7/N1, Bintaro...   \n",
              "15         Jl. Cipete Raya No. 79, Fatmawati, Jakarta   \n",
              "16              Jl. Dayang Sumbi No. 2, Dago, Bandung   \n",
              "17             Jl. Senopati No. 27, Senopati, Jakarta   \n",
              "18  Jl. Tanjung Duren Utara III, Blok M Kav. 32, T...   \n",
              "19     Jl. Tebet Timur Dalam Raya 44B, Tebet, Jakarta   \n",
              "\n",
              "                                  Locality  \\\n",
              "0            Grand Indonesia Mall, Thamrin   \n",
              "1               Hotel Shangri-La, Sudirman   \n",
              "2                              Penjaringan   \n",
              "3                                 Senopati   \n",
              "4                                  Thamrin   \n",
              "5                 Plaza Festival, Kuningan   \n",
              "6   Alam Sutera Town Center, Serpong Utara   \n",
              "7                              Bogor Utara   \n",
              "8                            Kelapa Gading   \n",
              "9                               Cengkareng   \n",
              "10            Gandaria City Mall, Gandaria   \n",
              "11           Grand Indonesia Mall, Thamrin   \n",
              "12                  Kota Kasablanka, Tebet   \n",
              "13          Taman Impian Jaya Ancol, Ancol   \n",
              "14                             Pondok Aren   \n",
              "15                               Fatmawati   \n",
              "16                                    Dago   \n",
              "17                                Senopati   \n",
              "18                           Tanjung Duren   \n",
              "19                                   Tebet   \n",
              "\n",
              "                                     Locality_Verbose   Longitude  Latitude  \\\n",
              "0              Grand Indonesia Mall, Thamrin, Jakarta  106.821999 -6.196778   \n",
              "1                 Hotel Shangri-La, Sudirman, Jakarta  106.818961 -6.203292   \n",
              "2                                Penjaringan, Jakarta  106.800144 -6.101298   \n",
              "3                                   Senopati, Jakarta  106.813400 -6.235241   \n",
              "4                                    Thamrin, Jakarta  106.821023 -6.196270   \n",
              "5                   Plaza Festival, Kuningan, Jakarta  106.831748 -6.218932   \n",
              "6   Alam Sutera Town Center, Serpong Utara, Tangerang  106.652688 -6.241792   \n",
              "7                                  Bogor Utara, Bogor  106.807850 -6.576578   \n",
              "8                              Kelapa Gading, Jakarta  106.911335 -6.163948   \n",
              "9                                 Cengkareng, Jakarta  106.728508 -6.168467   \n",
              "10              Gandaria City Mall, Gandaria, Jakarta  106.783162 -6.244221   \n",
              "11             Grand Indonesia Mall, Thamrin, Jakarta  106.819749 -6.197150   \n",
              "12                    Kota Kasablanka, Tebet, Jakarta  106.842500 -6.224333   \n",
              "13            Taman Impian Jaya Ancol, Ancol, Jakarta  106.833553 -6.126860   \n",
              "14                             Pondok Aren, Tangerang  106.726119 -6.269914   \n",
              "15                                 Fatmawati, Jakarta  106.801782 -6.278012   \n",
              "16                                      Dago, Bandung  107.612790 -6.887058   \n",
              "17                                  Senopati, Jakarta  106.808550 -6.230775   \n",
              "18                             Tanjung Duren, Jakarta    0.000000  0.000000   \n",
              "19                                     Tebet, Jakarta  106.856413 -6.232816   \n",
              "\n",
              "                                             Cuisines  Average_Cost_for_two  \\\n",
              "0                                Italian, Continental                800000   \n",
              "1                          Asian, Indonesian, Western                800000   \n",
              "2                                     Sushi, Japanese                500000   \n",
              "3                                            Japanese                450000   \n",
              "4                                     French, Western                350000   \n",
              "5                                       Cafe, Western                300000   \n",
              "6                                          Indonesian                300000   \n",
              "7                               Peranakan, Indonesian                250000   \n",
              "8                                Western, Asian, Cafe                250000   \n",
              "9                                   Sunda, Indonesian                200000   \n",
              "10                                             Korean                200000   \n",
              "11                          Desserts, Bakery, Western                200000   \n",
              "12                             Japanese, Sushi, Ramen                200000   \n",
              "13                                  Sunda, Indonesian                200000   \n",
              "14                                  Sunda, Indonesian                200000   \n",
              "15  Cafe, Italian, Coffee and Tea, Western, Indone...                165000   \n",
              "16                      Cafe, Coffee and Tea, Western                150000   \n",
              "17                                             Burger                120000   \n",
              "18                                   Seafood, Western                100000   \n",
              "19                                   Seafood, Western                100000   \n",
              "\n",
              "                  Currency Has_Table_booking Has_Online_delivery  Price_range  \\\n",
              "0   Indonesian Rupiah(IDR)                No                  No            3   \n",
              "1   Indonesian Rupiah(IDR)                No                  No            3   \n",
              "2   Indonesian Rupiah(IDR)                No                  No            3   \n",
              "3   Indonesian Rupiah(IDR)                No                  No            3   \n",
              "4   Indonesian Rupiah(IDR)                No                  No            3   \n",
              "5   Indonesian Rupiah(IDR)                No                  No            3   \n",
              "6   Indonesian Rupiah(IDR)                No                  No            3   \n",
              "7   Indonesian Rupiah(IDR)                No                  No            3   \n",
              "8   Indonesian Rupiah(IDR)                No                  No            3   \n",
              "9   Indonesian Rupiah(IDR)                No                  No            3   \n",
              "10  Indonesian Rupiah(IDR)                No                  No            3   \n",
              "11  Indonesian Rupiah(IDR)                No                  No            3   \n",
              "12  Indonesian Rupiah(IDR)                No                  No            3   \n",
              "13  Indonesian Rupiah(IDR)                No                  No            3   \n",
              "14  Indonesian Rupiah(IDR)                No                  No            3   \n",
              "15  Indonesian Rupiah(IDR)                No                  No            3   \n",
              "16  Indonesian Rupiah(IDR)                No                  No            3   \n",
              "17  Indonesian Rupiah(IDR)                No                  No            3   \n",
              "18  Indonesian Rupiah(IDR)                No                  No            3   \n",
              "19  Indonesian Rupiah(IDR)                No                  No            3   \n",
              "\n",
              "    Aggregate_rating Rating_color Rating_text  Votes  \n",
              "0                4.1        Green   Very Good   1498  \n",
              "1                4.6   Dark Green   Excellent    873  \n",
              "2                4.9   Dark Green   Excellent    605  \n",
              "3                4.2        Green   Very Good    395  \n",
              "4                4.3        Green   Very Good    243  \n",
              "5                4.3        Green   Very Good    458  \n",
              "6                3.7       Yellow        Good    155  \n",
              "7                4.0        Green   Very Good   1159  \n",
              "8                4.2        Green   Very Good    259  \n",
              "9                4.9   Dark Green   Excellent   1662  \n",
              "10               3.9       Yellow        Good    137  \n",
              "11               4.6   Dark Green   Excellent    903  \n",
              "12               4.4        Green   Very Good    841  \n",
              "13               4.9   Dark Green   Excellent   1640  \n",
              "14               4.9   Dark Green   Excellent   2212  \n",
              "15               4.6   Dark Green   Excellent   1476  \n",
              "16               4.2        Green   Very Good     22  \n",
              "17               4.4        Green   Very Good    410  \n",
              "18               3.4       Orange     Average    152  \n",
              "19               4.0        Green   Very Good    331  "
            ]
          },
          "execution_count": 6,
          "metadata": {},
          "output_type": "execute_result"
        }
      ],
      "source": [
        "# Altered column names\n",
        "Raw_data.columns = Raw_data.columns.str.replace(\" \",\"_\") \n",
        "Raw_data.head(20)"
      ]
    },
    {
      "cell_type": "code",
      "execution_count": null,
      "id": "d3d54351",
      "metadata": {
        "scrolled": true,
        "id": "d3d54351",
        "outputId": "98f5aa53-2e78-4c62-d702-cea62fbe4bbc"
      },
      "outputs": [
        {
          "data": {
            "text/plain": [
              "Index(['Restaurant_ID', 'Restaurant_Name', 'Country_Code', 'City', 'Address',\n",
              "       'Locality', 'Locality_Verbose', 'Longitude', 'Latitude', 'Cuisines',\n",
              "       'Average_Cost_for_two', 'Currency', 'Has_Table_booking',\n",
              "       'Has_Online_delivery', 'Price_range', 'Aggregate_rating',\n",
              "       'Rating_color', 'Rating_text', 'Votes'],\n",
              "      dtype='object')"
            ]
          },
          "execution_count": 7,
          "metadata": {},
          "output_type": "execute_result"
        }
      ],
      "source": [
        "Raw_data.columns"
      ]
    },
    {
      "cell_type": "code",
      "execution_count": null,
      "id": "0df8215d",
      "metadata": {
        "id": "0df8215d",
        "outputId": "c97a6870-db78-497b-fc54-3fe2e220f6af"
      },
      "outputs": [
        {
          "data": {
            "text/plain": [
              "Restaurant_ID              0\n",
              "Restaurant_Name            0\n",
              "Country_Code               0\n",
              "City                       0\n",
              "Address                    0\n",
              "Locality                   0\n",
              "Locality_Verbose           0\n",
              "Longitude                498\n",
              "Latitude                 498\n",
              "Cuisines                   0\n",
              "Average_Cost_for_two      18\n",
              "Currency                   0\n",
              "Has_Table_booking          0\n",
              "Has_Online_delivery        0\n",
              "Price_range                0\n",
              "Aggregate_rating        2148\n",
              "Rating_color               0\n",
              "Rating_text                0\n",
              "Votes                   1094\n",
              "dtype: int64"
            ]
          },
          "execution_count": 8,
          "metadata": {},
          "output_type": "execute_result"
        }
      ],
      "source": [
        "# Feature that contains value as 0, in some conditions it may null but not Everytime\n",
        "(Raw_data == 0 ).sum()"
      ]
    },
    {
      "cell_type": "markdown",
      "id": "1b02bbb6",
      "metadata": {
        "id": "1b02bbb6"
      },
      "source": [
        "# Finding duplications"
      ]
    },
    {
      "cell_type": "code",
      "execution_count": null,
      "id": "b66e1502",
      "metadata": {
        "id": "b66e1502",
        "outputId": "a6c9f299-5673-4e44-facd-c926ae2d81af"
      },
      "outputs": [
        {
          "name": "stdout",
          "output_type": "stream",
          "text": [
            "Duplicate if any : False\n",
            "Duplicated no of rows : 0\n"
          ]
        }
      ],
      "source": [
        "# No duplications in rows and columns\n",
        "# --- if duplicates present use df.drop_duplicates(keep = False and \n",
        "#    keep = True will delete last column, it will not delete the first column)\n",
        "print(\"Duplicate if any :\",Raw_data.duplicated().any())\n",
        "print(\"Duplicated no of rows :\",Raw_data.duplicated().sum())"
      ]
    },
    {
      "cell_type": "code",
      "execution_count": null,
      "id": "cf551cfc",
      "metadata": {
        "id": "cf551cfc"
      },
      "outputs": [],
      "source": [
        "# Treatment for the NA values"
      ]
    },
    {
      "cell_type": "code",
      "execution_count": null,
      "id": "af6a089e",
      "metadata": {
        "scrolled": true,
        "id": "af6a089e",
        "outputId": "34f20238-bf00-4127-90cc-e5317795d2b5"
      },
      "outputs": [
        {
          "data": {
            "text/plain": [
              "Restaurant_ID           0\n",
              "Restaurant_Name         1\n",
              "Country_Code            0\n",
              "City                    0\n",
              "Address                 0\n",
              "Locality                0\n",
              "Locality_Verbose        0\n",
              "Longitude               0\n",
              "Latitude                0\n",
              "Cuisines                9\n",
              "Average_Cost_for_two    0\n",
              "Currency                0\n",
              "Has_Table_booking       0\n",
              "Has_Online_delivery     0\n",
              "Price_range             0\n",
              "Aggregate_rating        0\n",
              "Rating_color            0\n",
              "Rating_text             0\n",
              "Votes                   0\n",
              "dtype: int64"
            ]
          },
          "execution_count": 11,
          "metadata": {},
          "output_type": "execute_result"
        }
      ],
      "source": [
        "Raw_data.isna().sum()"
      ]
    },
    {
      "cell_type": "code",
      "execution_count": null,
      "id": "52dba437",
      "metadata": {
        "id": "52dba437",
        "outputId": "ed536e90-11ca-4a87-a844-a79a3e343d5b"
      },
      "outputs": [
        {
          "data": {
            "text/plain": [
              "1"
            ]
          },
          "execution_count": 12,
          "metadata": {},
          "output_type": "execute_result"
        }
      ],
      "source": [
        "Raw_data['Restaurant_Name'].isna().sum()"
      ]
    },
    {
      "cell_type": "code",
      "execution_count": null,
      "id": "90faea1f",
      "metadata": {
        "id": "90faea1f",
        "outputId": "ea88da04-108a-463d-be51-c033ff7580a0"
      },
      "outputs": [
        {
          "data": {
            "text/plain": [
              "0"
            ]
          },
          "execution_count": 13,
          "metadata": {},
          "output_type": "execute_result"
        }
      ],
      "source": [
        "Raw_data['Restaurant_Name'].fillna((0),inplace=True)\n",
        "Raw_data['Restaurant_Name'].isna().sum()"
      ]
    },
    {
      "cell_type": "code",
      "execution_count": null,
      "id": "dcaeba21",
      "metadata": {
        "id": "dcaeba21",
        "outputId": "566815f7-b7be-4565-d14f-bdd8048e2a63"
      },
      "outputs": [
        {
          "data": {
            "text/plain": [
              "9"
            ]
          },
          "execution_count": 14,
          "metadata": {},
          "output_type": "execute_result"
        }
      ],
      "source": [
        "Raw_data['Cuisines'].isnull().sum()"
      ]
    },
    {
      "cell_type": "code",
      "execution_count": null,
      "id": "962184f1",
      "metadata": {
        "id": "962184f1"
      },
      "outputs": [],
      "source": [
        "Raw_data['Cuisines'].fillna((\"Others\"),inplace = True)"
      ]
    },
    {
      "cell_type": "code",
      "execution_count": null,
      "id": "7aed50de",
      "metadata": {
        "id": "7aed50de",
        "outputId": "635d760c-b896-4bc6-ce5e-1cd667db08f1"
      },
      "outputs": [
        {
          "data": {
            "text/plain": [
              "0"
            ]
          },
          "execution_count": 16,
          "metadata": {},
          "output_type": "execute_result"
        }
      ],
      "source": [
        "Raw_data['Cuisines'].isnull().sum()"
      ]
    },
    {
      "cell_type": "code",
      "execution_count": null,
      "id": "465a8a50",
      "metadata": {
        "id": "465a8a50",
        "outputId": "bfc56a23-c019-4e85-c8c1-d115617da3a1"
      },
      "outputs": [
        {
          "name": "stdout",
          "output_type": "stream",
          "text": [
            "Number of Restaurant ID : 9551\n",
            "Number of Restaurant Names: 7446\n"
          ]
        }
      ],
      "source": [
        "print(\"Number of Restaurant ID :\",Raw_data['Restaurant_ID'].nunique())\n",
        "print(\"Number of Restaurant Names:\",Raw_data['Restaurant_Name'].nunique())"
      ]
    },
    {
      "cell_type": "markdown",
      "id": "0c58e440",
      "metadata": {
        "id": "0c58e440"
      },
      "source": [
        "# Exploratory data Analysis: EDA Phase- I\n",
        "Explore the geographical distribution of the restaurants"
      ]
    },
    {
      "cell_type": "code",
      "execution_count": null,
      "id": "75613592",
      "metadata": {
        "id": "75613592"
      },
      "outputs": [],
      "source": [
        "Raw_country = pd.read_excel(\"Country-Code.xlsx\")"
      ]
    },
    {
      "cell_type": "code",
      "execution_count": null,
      "id": "95b2c41d",
      "metadata": {
        "id": "95b2c41d"
      },
      "outputs": [],
      "source": [
        "Raw_country.columns = Raw_country.columns.str.replace(' ','_')"
      ]
    },
    {
      "cell_type": "code",
      "execution_count": null,
      "id": "8195a7e7",
      "metadata": {
        "scrolled": true,
        "id": "8195a7e7",
        "outputId": "978cbb35-1adb-4c45-8b6d-e6ae1fe6e671"
      },
      "outputs": [
        {
          "data": {
            "text/html": [
              "<div>\n",
              "<style scoped>\n",
              "    .dataframe tbody tr th:only-of-type {\n",
              "        vertical-align: middle;\n",
              "    }\n",
              "\n",
              "    .dataframe tbody tr th {\n",
              "        vertical-align: top;\n",
              "    }\n",
              "\n",
              "    .dataframe thead th {\n",
              "        text-align: right;\n",
              "    }\n",
              "</style>\n",
              "<table border=\"1\" class=\"dataframe\">\n",
              "  <thead>\n",
              "    <tr style=\"text-align: right;\">\n",
              "      <th></th>\n",
              "      <th>Country_Code</th>\n",
              "      <th>Country</th>\n",
              "    </tr>\n",
              "  </thead>\n",
              "  <tbody>\n",
              "    <tr>\n",
              "      <th>0</th>\n",
              "      <td>1</td>\n",
              "      <td>India</td>\n",
              "    </tr>\n",
              "    <tr>\n",
              "      <th>1</th>\n",
              "      <td>14</td>\n",
              "      <td>Australia</td>\n",
              "    </tr>\n",
              "    <tr>\n",
              "      <th>2</th>\n",
              "      <td>30</td>\n",
              "      <td>Brazil</td>\n",
              "    </tr>\n",
              "    <tr>\n",
              "      <th>3</th>\n",
              "      <td>37</td>\n",
              "      <td>Canada</td>\n",
              "    </tr>\n",
              "    <tr>\n",
              "      <th>4</th>\n",
              "      <td>94</td>\n",
              "      <td>Indonesia</td>\n",
              "    </tr>\n",
              "    <tr>\n",
              "      <th>5</th>\n",
              "      <td>148</td>\n",
              "      <td>New Zealand</td>\n",
              "    </tr>\n",
              "    <tr>\n",
              "      <th>6</th>\n",
              "      <td>162</td>\n",
              "      <td>Phillipines</td>\n",
              "    </tr>\n",
              "    <tr>\n",
              "      <th>7</th>\n",
              "      <td>166</td>\n",
              "      <td>Qatar</td>\n",
              "    </tr>\n",
              "    <tr>\n",
              "      <th>8</th>\n",
              "      <td>184</td>\n",
              "      <td>Singapore</td>\n",
              "    </tr>\n",
              "    <tr>\n",
              "      <th>9</th>\n",
              "      <td>189</td>\n",
              "      <td>South Africa</td>\n",
              "    </tr>\n",
              "    <tr>\n",
              "      <th>10</th>\n",
              "      <td>191</td>\n",
              "      <td>Sri Lanka</td>\n",
              "    </tr>\n",
              "    <tr>\n",
              "      <th>11</th>\n",
              "      <td>208</td>\n",
              "      <td>Turkey</td>\n",
              "    </tr>\n",
              "    <tr>\n",
              "      <th>12</th>\n",
              "      <td>214</td>\n",
              "      <td>UAE</td>\n",
              "    </tr>\n",
              "    <tr>\n",
              "      <th>13</th>\n",
              "      <td>215</td>\n",
              "      <td>United Kingdom</td>\n",
              "    </tr>\n",
              "    <tr>\n",
              "      <th>14</th>\n",
              "      <td>216</td>\n",
              "      <td>United States</td>\n",
              "    </tr>\n",
              "  </tbody>\n",
              "</table>\n",
              "</div>"
            ],
            "text/plain": [
              "    Country_Code         Country\n",
              "0              1           India\n",
              "1             14       Australia\n",
              "2             30          Brazil\n",
              "3             37          Canada\n",
              "4             94       Indonesia\n",
              "5            148     New Zealand\n",
              "6            162     Phillipines\n",
              "7            166           Qatar\n",
              "8            184       Singapore\n",
              "9            189    South Africa\n",
              "10           191       Sri Lanka\n",
              "11           208          Turkey\n",
              "12           214             UAE\n",
              "13           215  United Kingdom\n",
              "14           216   United States"
            ]
          },
          "execution_count": 20,
          "metadata": {},
          "output_type": "execute_result"
        }
      ],
      "source": [
        "Raw_country.head(20)"
      ]
    },
    {
      "cell_type": "code",
      "execution_count": null,
      "id": "657da46e",
      "metadata": {
        "scrolled": true,
        "id": "657da46e"
      },
      "outputs": [],
      "source": [
        "Combined_data = pd.merge(Raw_data,Raw_country,how='inner')"
      ]
    },
    {
      "cell_type": "markdown",
      "id": "d26f9f16",
      "metadata": {
        "id": "d26f9f16"
      },
      "source": [
        "# Maximum and Minimum restaurant in the cities"
      ]
    },
    {
      "cell_type": "code",
      "execution_count": null,
      "id": "3509697b",
      "metadata": {
        "scrolled": false,
        "id": "3509697b",
        "outputId": "d1fb942b-205e-428e-b033-b85e724ba269"
      },
      "outputs": [
        {
          "data": {
            "text/plain": [
              "City\n",
              "Ojo Caliente         1\n",
              "Clatskanie           1\n",
              "Cochrane             1\n",
              "Phillip Island       1\n",
              "Potrero              1\n",
              "                  ... \n",
              "Ghaziabad           25\n",
              "Faridabad          251\n",
              "Noida             1080\n",
              "Gurgaon           1118\n",
              "New Delhi         5473\n",
              "Length: 141, dtype: int64"
            ]
          },
          "execution_count": 22,
          "metadata": {},
          "output_type": "execute_result"
        }
      ],
      "source": [
        "Combined_data.groupby(['City']).size().sort_values()"
      ]
    },
    {
      "cell_type": "raw",
      "id": "be8f0238",
      "metadata": {
        "id": "be8f0238"
      },
      "source": [
        "Maximum Restaurant = 5473\n",
        "Minimum Restaurant = 1"
      ]
    },
    {
      "cell_type": "code",
      "execution_count": null,
      "id": "84c5a512",
      "metadata": {
        "id": "84c5a512",
        "outputId": "71277f6e-8801-4509-c756-5b27282e6b55"
      },
      "outputs": [
        {
          "data": {
            "text/plain": [
              "<AxesSubplot:xlabel='City'>"
            ]
          },
          "execution_count": 23,
          "metadata": {},
          "output_type": "execute_result"
        },
        {
          "data": {
            "image/png": "[encoded data removed]",
            "text/plain": [
              "<Figure size 432x288 with 1 Axes>"
            ]
          },
          "metadata": {
            "needs_background": "light"
          },
          "output_type": "display_data"
        }
      ],
      "source": [
        "Combined_data.groupby(['City']).size().sort_values().plot()"
      ]
    },
    {
      "cell_type": "code",
      "execution_count": null,
      "id": "1f71bc05",
      "metadata": {
        "id": "1f71bc05",
        "outputId": "f064b840-2c55-466d-eac7-be5e5f961a09"
      },
      "outputs": [
        {
          "data": {
            "text/plain": [
              "<AxesSubplot:xlabel='Country'>"
            ]
          },
          "execution_count": 24,
          "metadata": {},
          "output_type": "execute_result"
        },
        {
          "data": {
            "image/png": "[encoded data removed]",
            "text/plain": [
              "<Figure size 432x288 with 1 Axes>"
            ]
          },
          "metadata": {
            "needs_background": "light"
          },
          "output_type": "display_data"
        }
      ],
      "source": [
        "Combined_data.groupby(['Country']).size().plot.bar()"
      ]
    },
    {
      "cell_type": "raw",
      "id": "a88eb049",
      "metadata": {
        "id": "a88eb049"
      },
      "source": [
        "India has the most of the restaurants accross global"
      ]
    },
    {
      "cell_type": "code",
      "execution_count": null,
      "id": "b65121f3",
      "metadata": {
        "id": "b65121f3",
        "outputId": "ba6be54e-4f0e-43a5-a391-e2cbc10b8fae"
      },
      "outputs": [
        {
          "data": {
            "text/plain": [
              "Restaurant_Name      City     \n",
              "0                    Ahmedabad     1\n",
              "Paul's Homemade      New Delhi     1\n",
              "Patna Roll Center    New Delhi     1\n",
              "Patiala Shahi Soups  New Delhi     1\n",
              "Patiala Shahi        New Delhi     1\n",
              "                                  ..\n",
              "McDonald's           New Delhi    33\n",
              "Green Chick Chop     New Delhi    37\n",
              "Subway               New Delhi    38\n",
              "Domino's Pizza       New Delhi    55\n",
              "Cafe Coffee Day      New Delhi    57\n",
              "Length: 7974, dtype: int64"
            ]
          },
          "execution_count": 25,
          "metadata": {},
          "output_type": "execute_result"
        }
      ],
      "source": [
        "Combined_data.groupby(['Restaurant_Name','City']).size().sort_values()"
      ]
    },
    {
      "cell_type": "raw",
      "id": "5010d552",
      "metadata": {
        "id": "5010d552"
      },
      "source": [
        "Explored franchise with Most National presence"
      ]
    },
    {
      "cell_type": "code",
      "execution_count": null,
      "id": "8a7c49fb",
      "metadata": {
        "id": "8a7c49fb",
        "outputId": "6ed82be8-cb72-417d-f215-5e2f40234203"
      },
      "outputs": [
        {
          "data": {
            "text/plain": [
              "Text(0.5, 1.0, 'Resturants provide table booking facility')"
            ]
          },
          "execution_count": 26,
          "metadata": {},
          "output_type": "execute_result"
        },
        {
          "data": {
            "image/png": "[encoded data removed]",
            "text/plain": [
              "<Figure size 432x288 with 1 Axes>"
            ]
          },
          "metadata": {},
          "output_type": "display_data"
        }
      ],
      "source": [
        "table_booking = Combined_data.groupby('Has_Table_booking').size()\n",
        "pie = table_booking.plot.pie(autopct = '%.1f')\n",
        "pie.set_title('Resturants provide table booking facility')"
      ]
    },
    {
      "cell_type": "code",
      "execution_count": null,
      "id": "b4ed81d5",
      "metadata": {
        "id": "b4ed81d5",
        "outputId": "00926a58-7f94-423c-a825-1e8ab1545a42"
      },
      "outputs": [
        {
          "data": {
            "text/plain": [
              "Text(0.5, 1.0, 'Percentage of Restaurants provide Online delivery')"
            ]
          },
          "execution_count": 27,
          "metadata": {},
          "output_type": "execute_result"
        },
        {
          "data": {
            "image/png": "[encoded data removed]",
            "text/plain": [
              "<Figure size 432x288 with 1 Axes>"
            ]
          },
          "metadata": {},
          "output_type": "display_data"
        }
      ],
      "source": [
        "calculate_percentage = Combined_data.groupby(['Has_Online_delivery']).size()\n",
        "percentage = 100*calculate_percentage/9551\n",
        "chart_view = percentage.plot.pie(autopct='%.1f')\n",
        "chart_view.set_title('Percentage of Restaurants provide Online delivery')"
      ]
    },
    {
      "cell_type": "raw",
      "id": "f83ed044",
      "metadata": {
        "id": "f83ed044"
      },
      "source": [
        "25.7% of Restaurant has Online delivery\n",
        "74.3% has Restaurant No online delivery"
      ]
    },
    {
      "cell_type": "code",
      "execution_count": null,
      "id": "03726fd2",
      "metadata": {
        "id": "03726fd2"
      },
      "outputs": [],
      "source": [
        "has_online = Combined_data.loc[Combined_data['Has_Online_delivery'] == \"Yes\",'Votes'].count()\n",
        "no_online = Combined_data.loc[Combined_data['Has_Online_delivery'] == \"No\",'Votes'].count()\n"
      ]
    },
    {
      "cell_type": "code",
      "execution_count": null,
      "id": "5ac53624",
      "metadata": {
        "id": "5ac53624",
        "outputId": "654dbdb0-6cb8-4c11-b948-7a4ce361a56d"
      },
      "outputs": [
        {
          "name": "stdout",
          "output_type": "stream",
          "text": [
            "Restaurants has Online delivery Facility :  2451\n",
            "Restaurants has Online delivery Facility :  7100\n"
          ]
        }
      ],
      "source": [
        "print(\"Restaurants has Online delivery Facility : \",has_online)\n",
        "print(\"Restaurants has Online delivery Facility : \",no_online)"
      ]
    },
    {
      "cell_type": "code",
      "execution_count": null,
      "id": "afc1c9b3",
      "metadata": {
        "id": "afc1c9b3",
        "outputId": "1885a8cb-a430-43e9-e084-845d2bad1645"
      },
      "outputs": [
        {
          "name": "stdout",
          "output_type": "stream",
          "text": [
            "Difference between Online Facility : 4649\n"
          ]
        }
      ],
      "source": [
        "Difference = no_online-has_online\n",
        "print(\"Difference between Online Facility :\",Difference)"
      ]
    },
    {
      "cell_type": "markdown",
      "id": "1a053ade",
      "metadata": {
        "id": "1a053ade"
      },
      "source": [
        "# EDA Phase-II"
      ]
    },
    {
      "cell_type": "raw",
      "id": "f7cb45a3",
      "metadata": {
        "id": "f7cb45a3"
      },
      "source": [
        "Top 10 cuisines in Cities"
      ]
    },
    {
      "cell_type": "code",
      "execution_count": null,
      "id": "97bf01f8",
      "metadata": {
        "id": "97bf01f8"
      },
      "outputs": [],
      "source": [
        "Top_10 = Combined_data.groupby([\"City\",\"Cuisines\"]).size().sort_values(ascending = False)\n"
      ]
    },
    {
      "cell_type": "code",
      "execution_count": null,
      "id": "3fb41c16",
      "metadata": {
        "scrolled": true,
        "id": "3fb41c16",
        "outputId": "1ffd22ab-16b9-43ee-e853-6b26b47c894d"
      },
      "outputs": [
        {
          "data": {
            "text/plain": [
              "City       Cuisines                      \n",
              "New Delhi  North Indian                      658\n",
              "           North Indian, Chinese             284\n",
              "           Fast Food                         242\n",
              "           Chinese                           228\n",
              "           North Indian, Mughlai             207\n",
              "           Cafe                              158\n",
              "           Street Food                       123\n",
              "           Bakery                            122\n",
              "           North Indian, Mughlai, Chinese    120\n",
              "           Bakery, Desserts                  117\n",
              "dtype: int64"
            ]
          },
          "execution_count": 32,
          "metadata": {},
          "output_type": "execute_result"
        }
      ],
      "source": [
        "Top_10.head(10)"
      ]
    },
    {
      "cell_type": "raw",
      "id": "50862eb7",
      "metadata": {
        "id": "50862eb7"
      },
      "source": [
        "What is the maximum and minimum number of cuisines that a restaurant serves...? "
      ]
    },
    {
      "cell_type": "code",
      "execution_count": null,
      "id": "32f917f3",
      "metadata": {
        "id": "32f917f3",
        "outputId": "971c652d-a495-4e70-aa50-6b994b95d784"
      },
      "outputs": [
        {
          "name": "stdout",
          "output_type": "stream",
          "text": [
            "Maximum served cuisines in Restaurant is : Cuisines  Restaurant_Name\n",
            "Cafe      Cafe Coffee Day    83\n",
            "dtype: int64\n"
          ]
        }
      ],
      "source": [
        "Maximum_cuisines = Combined_data.groupby(['Cuisines','Restaurant_Name']).size().sort_values()\n",
        "Maximum_cuisines = Maximum_cuisines[-1:]\n",
        "print(\"Maximum served cuisines in Restaurant is :\",Maximum_cuisines)"
      ]
    },
    {
      "cell_type": "code",
      "execution_count": null,
      "id": "b5ca1c3e",
      "metadata": {
        "id": "b5ca1c3e",
        "outputId": "815e8ac9-d3b8-48be-9aa2-8f74efaf79e8"
      },
      "outputs": [
        {
          "name": "stdout",
          "output_type": "stream",
          "text": [
            "Minimum served cuisines in Restaurant is  Cuisines  Restaurant_Name\n",
            "Afghani   Afghan Indian      1\n",
            "dtype: int64\n"
          ]
        }
      ],
      "source": [
        "Minimum_cuisines = Combined_data.groupby(['Cuisines','Restaurant_Name']).size().sort_values()\n",
        "Minimum_cuisines = Minimum_cuisines[:1]\n",
        "print(\"Minimum served cuisines in Restaurant is \",Minimum_cuisines)"
      ]
    },
    {
      "cell_type": "raw",
      "id": "513e5323",
      "metadata": {
        "id": "513e5323"
      },
      "source": [
        "Also, which is the most served cuisine across the restaurant for each city...?"
      ]
    },
    {
      "cell_type": "code",
      "execution_count": null,
      "id": "db650224",
      "metadata": {
        "id": "db650224",
        "outputId": "24b25812-85b6-49af-f9f4-0928d3d9989d"
      },
      "outputs": [
        {
          "data": {
            "text/plain": [
              "Cuisines  Restaurant_Name  City     \n",
              "Cafe      Cafe Coffee Day  New Delhi    57\n",
              "dtype: int64"
            ]
          },
          "execution_count": 35,
          "metadata": {},
          "output_type": "execute_result"
        }
      ],
      "source": [
        "most = Combined_data.groupby(['Cuisines','Restaurant_Name','City']).size().sort_values(ascending=False)\n",
        "most[:1]"
      ]
    },
    {
      "cell_type": "code",
      "execution_count": null,
      "id": "9910c3e5",
      "metadata": {
        "scrolled": false,
        "id": "9910c3e5",
        "outputId": "e8819dbe-b874-414f-9baf-6f6c6f251d44"
      },
      "outputs": [
        {
          "data": {
            "text/plain": [
              "<AxesSubplot:xlabel='Restaurant_Name,Average_Cost_for_two'>"
            ]
          },
          "execution_count": 36,
          "metadata": {},
          "output_type": "execute_result"
        },
        {
          "data": {
            "image/png": "[encoded data removed]",
            "text/plain": [
              "<Figure size 432x288 with 1 Axes>"
            ]
          },
          "metadata": {
            "needs_background": "light"
          },
          "output_type": "display_data"
        }
      ],
      "source": [
        "Distribution_cost = Combined_data.groupby(['Restaurant_Name','Average_Cost_for_two']).size().sort_values(ascending=False)\n",
        "Distribution_cost.plot()"
      ]
    },
    {
      "cell_type": "raw",
      "id": "1093502b",
      "metadata": {
        "id": "1093502b"
      },
      "source": [
        "What is the distribution cost across the restaurants"
      ]
    },
    {
      "cell_type": "code",
      "execution_count": null,
      "id": "99916ea1",
      "metadata": {
        "id": "99916ea1",
        "outputId": "d45f9c2a-0c78-44a9-a924-323f2ba398e6"
      },
      "outputs": [
        {
          "data": {
            "text/plain": [
              "Index(['Restaurant_ID', 'Restaurant_Name', 'Country_Code', 'City', 'Address',\n",
              "       'Locality', 'Locality_Verbose', 'Longitude', 'Latitude', 'Cuisines',\n",
              "       'Average_Cost_for_two', 'Currency', 'Has_Table_booking',\n",
              "       'Has_Online_delivery', 'Price_range', 'Aggregate_rating',\n",
              "       'Rating_color', 'Rating_text', 'Votes', 'Country'],\n",
              "      dtype='object')"
            ]
          },
          "execution_count": 37,
          "metadata": {},
          "output_type": "execute_result"
        }
      ],
      "source": [
        "Combined_data.columns"
      ]
    },
    {
      "cell_type": "code",
      "execution_count": null,
      "id": "92f0de21",
      "metadata": {
        "id": "92f0de21",
        "outputId": "2d3da1c1-2936-4abf-fd1b-8c97242ed7dd"
      },
      "outputs": [
        {
          "data": {
            "text/html": [
              "<div>\n",
              "<style scoped>\n",
              "    .dataframe tbody tr th:only-of-type {\n",
              "        vertical-align: middle;\n",
              "    }\n",
              "\n",
              "    .dataframe tbody tr th {\n",
              "        vertical-align: top;\n",
              "    }\n",
              "\n",
              "    .dataframe thead th {\n",
              "        text-align: right;\n",
              "    }\n",
              "</style>\n",
              "<table border=\"1\" class=\"dataframe\">\n",
              "  <thead>\n",
              "    <tr style=\"text-align: right;\">\n",
              "      <th></th>\n",
              "      <th>Cuisines</th>\n",
              "      <th>Aggregate_rating</th>\n",
              "    </tr>\n",
              "  </thead>\n",
              "  <tbody>\n",
              "    <tr>\n",
              "      <th>72</th>\n",
              "      <td>Continental</td>\n",
              "      <td>2.9</td>\n",
              "    </tr>\n",
              "    <tr>\n",
              "      <th>114</th>\n",
              "      <td>Finger Food</td>\n",
              "      <td>2.7</td>\n",
              "    </tr>\n",
              "    <tr>\n",
              "      <th>139</th>\n",
              "      <td>European, Sushi, Italian</td>\n",
              "      <td>3.0</td>\n",
              "    </tr>\n",
              "    <tr>\n",
              "      <th>144</th>\n",
              "      <td>Asian, Continental, Italian, North Indian</td>\n",
              "      <td>3.0</td>\n",
              "    </tr>\n",
              "    <tr>\n",
              "      <th>147</th>\n",
              "      <td>North Indian, Chinese</td>\n",
              "      <td>2.5</td>\n",
              "    </tr>\n",
              "    <tr>\n",
              "      <th>...</th>\n",
              "      <td>...</td>\n",
              "      <td>...</td>\n",
              "    </tr>\n",
              "    <tr>\n",
              "      <th>9092</th>\n",
              "      <td>Coffee and Tea, Modern Australian</td>\n",
              "      <td>2.4</td>\n",
              "    </tr>\n",
              "    <tr>\n",
              "      <th>9104</th>\n",
              "      <td>Asian</td>\n",
              "      <td>2.9</td>\n",
              "    </tr>\n",
              "    <tr>\n",
              "      <th>9338</th>\n",
              "      <td>Burger, German, Sandwich</td>\n",
              "      <td>2.2</td>\n",
              "    </tr>\n",
              "    <tr>\n",
              "      <th>9492</th>\n",
              "      <td>Breakfast, Burger</td>\n",
              "      <td>2.4</td>\n",
              "    </tr>\n",
              "    <tr>\n",
              "      <th>9549</th>\n",
              "      <td>Chinese, Canadian</td>\n",
              "      <td>3.0</td>\n",
              "    </tr>\n",
              "  </tbody>\n",
              "</table>\n",
              "<p>1898 rows × 2 columns</p>\n",
              "</div>"
            ],
            "text/plain": [
              "                                       Cuisines  Aggregate_rating\n",
              "72                                  Continental               2.9\n",
              "114                                 Finger Food               2.7\n",
              "139                    European, Sushi, Italian               3.0\n",
              "144   Asian, Continental, Italian, North Indian               3.0\n",
              "147                       North Indian, Chinese               2.5\n",
              "...                                         ...               ...\n",
              "9092          Coffee and Tea, Modern Australian               2.4\n",
              "9104                                      Asian               2.9\n",
              "9338                   Burger, German, Sandwich               2.2\n",
              "9492                          Breakfast, Burger               2.4\n",
              "9549                          Chinese, Canadian               3.0\n",
              "\n",
              "[1898 rows x 2 columns]"
            ]
          },
          "execution_count": 38,
          "metadata": {},
          "output_type": "execute_result"
        }
      ],
      "source": [
        "# Results between 2 to 3 ratings\n",
        "distribution = Combined_data.loc[Combined_data.Aggregate_rating.between(2,3) ,['Cuisines','Aggregate_rating']]\n",
        "distribution"
      ]
    },
    {
      "cell_type": "code",
      "execution_count": null,
      "id": "25a2d817",
      "metadata": {
        "scrolled": true,
        "id": "25a2d817",
        "outputId": "b7682ab3-4784-4aa8-8916-3b2d0f75e17b"
      },
      "outputs": [
        {
          "data": {
            "text/html": [
              "<div>\n",
              "<style scoped>\n",
              "    .dataframe tbody tr th:only-of-type {\n",
              "        vertical-align: middle;\n",
              "    }\n",
              "\n",
              "    .dataframe tbody tr th {\n",
              "        vertical-align: top;\n",
              "    }\n",
              "\n",
              "    .dataframe thead th {\n",
              "        text-align: right;\n",
              "    }\n",
              "</style>\n",
              "<table border=\"1\" class=\"dataframe\">\n",
              "  <thead>\n",
              "    <tr style=\"text-align: right;\">\n",
              "      <th></th>\n",
              "      <th>Aggregate_rating</th>\n",
              "    </tr>\n",
              "  </thead>\n",
              "  <tbody>\n",
              "    <tr>\n",
              "      <th>count</th>\n",
              "      <td>7403.000000</td>\n",
              "    </tr>\n",
              "    <tr>\n",
              "      <th>mean</th>\n",
              "      <td>3.440024</td>\n",
              "    </tr>\n",
              "    <tr>\n",
              "      <th>std</th>\n",
              "      <td>0.552195</td>\n",
              "    </tr>\n",
              "    <tr>\n",
              "      <th>min</th>\n",
              "      <td>1.800000</td>\n",
              "    </tr>\n",
              "    <tr>\n",
              "      <th>25%</th>\n",
              "      <td>3.000000</td>\n",
              "    </tr>\n",
              "    <tr>\n",
              "      <th>50%</th>\n",
              "      <td>3.400000</td>\n",
              "    </tr>\n",
              "    <tr>\n",
              "      <th>75%</th>\n",
              "      <td>3.800000</td>\n",
              "    </tr>\n",
              "    <tr>\n",
              "      <th>max</th>\n",
              "      <td>4.900000</td>\n",
              "    </tr>\n",
              "  </tbody>\n",
              "</table>\n",
              "</div>"
            ],
            "text/plain": [
              "       Aggregate_rating\n",
              "count       7403.000000\n",
              "mean           3.440024\n",
              "std            0.552195\n",
              "min            1.800000\n",
              "25%            3.000000\n",
              "50%            3.400000\n",
              "75%            3.800000\n",
              "max            4.900000"
            ]
          },
          "execution_count": 39,
          "metadata": {},
          "output_type": "execute_result"
        }
      ],
      "source": [
        "distributions = Combined_data.loc[Combined_data.Aggregate_rating > 1,['Cuisines','Aggregate_rating']]\n",
        "distributions.describe()"
      ]
    },
    {
      "cell_type": "code",
      "execution_count": null,
      "id": "249cd848",
      "metadata": {
        "id": "249cd848"
      },
      "outputs": [],
      "source": [
        "desired = Combined_data.groupby(['Cuisines','Average_Cost_for_two','Price_range']).size()\n",
        "final=desired.to_frame()"
      ]
    },
    {
      "cell_type": "code",
      "execution_count": null,
      "id": "8ff13809",
      "metadata": {
        "scrolled": false,
        "id": "8ff13809",
        "outputId": "df1679e0-98ee-436d-b852-1780a1030cbd"
      },
      "outputs": [
        {
          "data": {
            "text/html": [
              "<div>\n",
              "<style scoped>\n",
              "    .dataframe tbody tr th:only-of-type {\n",
              "        vertical-align: middle;\n",
              "    }\n",
              "\n",
              "    .dataframe tbody tr th {\n",
              "        vertical-align: top;\n",
              "    }\n",
              "\n",
              "    .dataframe thead th {\n",
              "        text-align: right;\n",
              "    }\n",
              "</style>\n",
              "<table border=\"1\" class=\"dataframe\">\n",
              "  <thead>\n",
              "    <tr style=\"text-align: right;\">\n",
              "      <th></th>\n",
              "      <th></th>\n",
              "      <th></th>\n",
              "      <th>0</th>\n",
              "    </tr>\n",
              "    <tr>\n",
              "      <th>Cuisines</th>\n",
              "      <th>Average_Cost_for_two</th>\n",
              "      <th>Price_range</th>\n",
              "      <th></th>\n",
              "    </tr>\n",
              "  </thead>\n",
              "  <tbody>\n",
              "    <tr>\n",
              "      <th rowspan=\"4\" valign=\"top\">Afghani</th>\n",
              "      <th>300</th>\n",
              "      <th>1</th>\n",
              "      <td>1</td>\n",
              "    </tr>\n",
              "    <tr>\n",
              "      <th>500</th>\n",
              "      <th>2</th>\n",
              "      <td>1</td>\n",
              "    </tr>\n",
              "    <tr>\n",
              "      <th>550</th>\n",
              "      <th>2</th>\n",
              "      <td>1</td>\n",
              "    </tr>\n",
              "    <tr>\n",
              "      <th>700</th>\n",
              "      <th>2</th>\n",
              "      <td>1</td>\n",
              "    </tr>\n",
              "    <tr>\n",
              "      <th>Afghani, Mughlai, Chinese</th>\n",
              "      <th>500</th>\n",
              "      <th>2</th>\n",
              "      <td>1</td>\n",
              "    </tr>\n",
              "    <tr>\n",
              "      <th>...</th>\n",
              "      <th>...</th>\n",
              "      <th>...</th>\n",
              "      <td>...</td>\n",
              "    </tr>\n",
              "    <tr>\n",
              "      <th>Western, Asian, Cafe</th>\n",
              "      <th>250000</th>\n",
              "      <th>3</th>\n",
              "      <td>1</td>\n",
              "    </tr>\n",
              "    <tr>\n",
              "      <th>Western, Fusion, Fast Food</th>\n",
              "      <th>60</th>\n",
              "      <th>4</th>\n",
              "      <td>1</td>\n",
              "    </tr>\n",
              "    <tr>\n",
              "      <th>World Cuisine</th>\n",
              "      <th>80</th>\n",
              "      <th>3</th>\n",
              "      <td>1</td>\n",
              "    </tr>\n",
              "    <tr>\n",
              "      <th>World Cuisine, Mexican, Italian</th>\n",
              "      <th>150</th>\n",
              "      <th>4</th>\n",
              "      <td>1</td>\n",
              "    </tr>\n",
              "    <tr>\n",
              "      <th>World Cuisine, Patisserie, Cafe</th>\n",
              "      <th>105</th>\n",
              "      <th>3</th>\n",
              "      <td>1</td>\n",
              "    </tr>\n",
              "  </tbody>\n",
              "</table>\n",
              "<p>3660 rows × 1 columns</p>\n",
              "</div>"
            ],
            "text/plain": [
              "                                                                  0\n",
              "Cuisines                        Average_Cost_for_two Price_range   \n",
              "Afghani                         300                  1            1\n",
              "                                500                  2            1\n",
              "                                550                  2            1\n",
              "                                700                  2            1\n",
              "Afghani, Mughlai, Chinese       500                  2            1\n",
              "...                                                              ..\n",
              "Western, Asian, Cafe            250000               3            1\n",
              "Western, Fusion, Fast Food      60                   4            1\n",
              "World Cuisine                   80                   3            1\n",
              "World Cuisine, Mexican, Italian 150                  4            1\n",
              "World Cuisine, Patisserie, Cafe 105                  3            1\n",
              "\n",
              "[3660 rows x 1 columns]"
            ]
          },
          "execution_count": 41,
          "metadata": {},
          "output_type": "execute_result"
        }
      ],
      "source": [
        "final"
      ]
    },
    {
      "cell_type": "raw",
      "id": "fc0929fc",
      "metadata": {
        "id": "fc0929fc"
      },
      "source": [
        "Explain the factors in the data that may have an effect on ratings.\n",
        "For example Number of cuisines, Cost, Delivery option, etc."
      ]
    },
    {
      "cell_type": "code",
      "execution_count": null,
      "id": "34ddee12",
      "metadata": {
        "scrolled": true,
        "id": "34ddee12",
        "outputId": "1b436f56-2379-4818-8311-6d2037720cb5"
      },
      "outputs": [
        {
          "data": {
            "text/plain": [
              "Index(['Restaurant_ID', 'Restaurant_Name', 'Country_Code', 'City', 'Address',\n",
              "       'Locality', 'Locality_Verbose', 'Longitude', 'Latitude', 'Cuisines',\n",
              "       'Average_Cost_for_two', 'Currency', 'Has_Table_booking',\n",
              "       'Has_Online_delivery', 'Price_range', 'Aggregate_rating',\n",
              "       'Rating_color', 'Rating_text', 'Votes', 'Country'],\n",
              "      dtype='object')"
            ]
          },
          "execution_count": 42,
          "metadata": {},
          "output_type": "execute_result"
        }
      ],
      "source": [
        "Combined_data.columns"
      ]
    },
    {
      "cell_type": "code",
      "execution_count": null,
      "id": "1d2b03db",
      "metadata": {
        "id": "1d2b03db",
        "outputId": "a8ae80eb-16bf-4048-d1b8-b1c8411abfdd"
      },
      "outputs": [
        {
          "data": {
            "text/html": [
              "<div>\n",
              "<style scoped>\n",
              "    .dataframe tbody tr th:only-of-type {\n",
              "        vertical-align: middle;\n",
              "    }\n",
              "\n",
              "    .dataframe tbody tr th {\n",
              "        vertical-align: top;\n",
              "    }\n",
              "\n",
              "    .dataframe thead th {\n",
              "        text-align: right;\n",
              "    }\n",
              "</style>\n",
              "<table border=\"1\" class=\"dataframe\">\n",
              "  <thead>\n",
              "    <tr style=\"text-align: right;\">\n",
              "      <th></th>\n",
              "      <th>Aggregate_rating</th>\n",
              "      <th>Average_Cost_for_two</th>\n",
              "    </tr>\n",
              "  </thead>\n",
              "  <tbody>\n",
              "    <tr>\n",
              "      <th>Aggregate_rating</th>\n",
              "      <td>1.000000</td>\n",
              "      <td>0.051792</td>\n",
              "    </tr>\n",
              "    <tr>\n",
              "      <th>Average_Cost_for_two</th>\n",
              "      <td>0.051792</td>\n",
              "      <td>1.000000</td>\n",
              "    </tr>\n",
              "  </tbody>\n",
              "</table>\n",
              "</div>"
            ],
            "text/plain": [
              "                      Aggregate_rating  Average_Cost_for_two\n",
              "Aggregate_rating              1.000000              0.051792\n",
              "Average_Cost_for_two          0.051792              1.000000"
            ]
          },
          "execution_count": 43,
          "metadata": {},
          "output_type": "execute_result"
        },
        {
          "data": {
            "image/png": "[encoded data removed]",
            "text/plain": [
              "<Figure size 432x288 with 1 Axes>"
            ]
          },
          "metadata": {
            "needs_background": "light"
          },
          "output_type": "display_data"
        }
      ],
      "source": [
        "sns.barplot(x=\"Aggregate_rating\",y=\"Average_Cost_for_two\",data=Combined_data)\n",
        "sns.set(rc={'figure.figsize':(25,10)})\n",
        "Combined_data[[\"Aggregate_rating\",\"Average_Cost_for_two\"]].corr()"
      ]
    },
    {
      "cell_type": "code",
      "execution_count": null,
      "id": "bdefe0c1",
      "metadata": {
        "id": "bdefe0c1",
        "outputId": "bf23b235-6331-424c-b320-8fd53c2e62d0"
      },
      "outputs": [
        {
          "name": "stderr",
          "output_type": "stream",
          "text": [
            "C:\\Users\\Shakul\\anaconda3\\lib\\site-packages\\seaborn\\_decorators.py:36: FutureWarning: Pass the following variables as keyword args: x, y. From version 0.12, the only valid positional argument will be `data`, and passing other arguments without an explicit keyword will result in an error or misinterpretation.\n",
            "  warnings.warn(\n"
          ]
        },
        {
          "data": {
            "text/plain": [
              "<AxesSubplot:xlabel='Has_Online_delivery', ylabel='Aggregate_rating'>"
            ]
          },
          "execution_count": 51,
          "metadata": {},
          "output_type": "execute_result"
        },
        {
          "data": {
            "image/png": "[encoded data removed]",
            "text/plain": [
              "<Figure size 1800x720 with 1 Axes>"
            ]
          },
          "metadata": {},
          "output_type": "display_data"
        }
      ],
      "source": [
        "sns.boxplot(\"Has_Online_delivery\",\"Aggregate_rating\", data = Combined_data)"
      ]
    },
    {
      "cell_type": "code",
      "execution_count": null,
      "id": "6f311827",
      "metadata": {
        "id": "6f311827",
        "outputId": "a0903b78-67ba-4ca3-b4ac-42a3b8086033"
      },
      "outputs": [
        {
          "data": {
            "text/plain": [
              "<seaborn.axisgrid.JointGrid at 0x23437e29f40>"
            ]
          },
          "execution_count": 52,
          "metadata": {},
          "output_type": "execute_result"
        },
        {
          "data": {
            "image/png": "[encoded data removed]",
            "text/plain": [
              "<Figure size 432x432 with 3 Axes>"
            ]
          },
          "metadata": {},
          "output_type": "display_data"
        }
      ],
      "source": [
        "sns.jointplot(x='Aggregate_rating',y='Votes',data =Combined_data)"
      ]
    },
    {
      "cell_type": "code",
      "execution_count": null,
      "id": "d2be91fe",
      "metadata": {
        "id": "d2be91fe"
      },
      "outputs": [],
      "source": []
    },
    {
      "cell_type": "code",
      "execution_count": null,
      "id": "771437c0",
      "metadata": {
        "id": "771437c0"
      },
      "outputs": [],
      "source": []
    },
    {
      "cell_type": "code",
      "execution_count": null,
      "id": "611658f4",
      "metadata": {
        "id": "611658f4"
      },
      "outputs": [],
      "source": []
    },
    {
      "cell_type": "code",
      "execution_count": null,
      "id": "4c651f32",
      "metadata": {
        "id": "4c651f32"
      },
      "outputs": [],
      "source": []
    }
  ],
  "metadata": {
    "kernelspec": {
      "display_name": "Python 3 (ipykernel)",
      "language": "python",
      "name": "python3"
    },
    "language_info": {
      "codemirror_mode": {
        "name": "ipython",
        "version": 3
      },
      "file_extension": ".py",
      "mimetype": "text/x-python",
      "name": "python",
      "nbconvert_exporter": "python",
      "pygments_lexer": "ipython3",
      "version": "3.9.7"
    },
    "colab": {
      "provenance": [],
      "include_colab_link": true
    }
  },
  "nbformat": 4,
  "nbformat_minor": 5
}