{
  "cells": [
    {
      "cell_type": "markdown",
      "metadata": {
        "id": "view-in-github",
        "colab_type": "text"
      },
      "source": [
        "<a href=\"https://colab.research.google.com/github/sh639/sh639/blob/main/stat_practise.ipynb\" target=\"_parent\"><img src=\"https://colab.research.google.com/assets/colab-badge.svg\" alt=\"Open In Colab\"/></a>"
      ]
    },
    {
      "cell_type": "raw",
      "id": "0b1a5fd5",
      "metadata": {
        "id": "0b1a5fd5"
      },
      "source": [
        "T Test\n",
        "\n",
        "A t-test is a type of inferential statistic which is used to determine if there is a significant difference between the means of two groups which may be related in certain features\n",
        "\n",
        "T-test has 2 types : 1. one sampled t-test 2. two-sampled t-test."
      ]
    },
    {
      "cell_type": "code",
      "execution_count": null,
      "id": "4d36f823",
      "metadata": {
        "id": "4d36f823"
      },
      "outputs": [],
      "source": [
        "ages=[10,20,35,50,28,40,55,18,16,55,30,25,43,18,30,28,14,24,16,17,32,35,26,27,65,18,43,23,21,20,19,70]\n"
      ]
    },
    {
      "cell_type": "code",
      "execution_count": null,
      "id": "c32c5bdb",
      "metadata": {
        "colab": {
          "base_uri": "https://localhost:8080/"
        },
        "id": "c32c5bdb",
        "outputId": "2b1770a6-774a-4521-8160-2597bf738055"
      },
      "outputs": [
        {
          "output_type": "execute_result",
          "data": {
            "text/plain": [
              "32"
            ]
          },
          "metadata": {},
          "execution_count": 3
        }
      ],
      "source": [
        "len(ages)"
      ]
    },
    {
      "cell_type": "code",
      "execution_count": null,
      "id": "706aef2b",
      "metadata": {
        "id": "706aef2b"
      },
      "outputs": [],
      "source": [
        "import numpy as np\n",
        "from scipy.stats import ttest_1samp"
      ]
    },
    {
      "cell_type": "code",
      "execution_count": null,
      "id": "de584cb7",
      "metadata": {
        "colab": {
          "base_uri": "https://localhost:8080/"
        },
        "id": "de584cb7",
        "outputId": "6b8d81d5-a977-45e9-a292-312421dc6ff5"
      },
      "outputs": [
        {
          "output_type": "stream",
          "name": "stdout",
          "text": [
            "30.34375\n"
          ]
        }
      ],
      "source": [
        "ages_mean = np.mean(ages)\n",
        "print(ages_mean)"
      ]
    },
    {
      "cell_type": "code",
      "execution_count": null,
      "id": "5dc1595f",
      "metadata": {
        "colab": {
          "base_uri": "https://localhost:8080/"
        },
        "id": "5dc1595f",
        "outputId": "0102142e-1900-4d9e-b3e8-3c7579ec100a"
      },
      "outputs": [
        {
          "output_type": "execute_result",
          "data": {
            "text/plain": [
              "array([20, 18, 18, 43, 16, 28, 16, 14, 43, 27])"
            ]
          },
          "metadata": {},
          "execution_count": 6
        }
      ],
      "source": [
        "sample_size = 10\n",
        "\n",
        "age_sample = np.random.choice(ages,sample_size)\n",
        "age_sample"
      ]
    },
    {
      "cell_type": "code",
      "execution_count": null,
      "id": "6f0dbe97",
      "metadata": {
        "id": "6f0dbe97"
      },
      "outputs": [],
      "source": [
        "ttest,p_value = ttest_1samp(age_sample,30)"
      ]
    },
    {
      "cell_type": "code",
      "execution_count": null,
      "id": "2a20edb0",
      "metadata": {
        "colab": {
          "base_uri": "https://localhost:8080/"
        },
        "id": "2a20edb0",
        "outputId": "51c9443f-793d-4050-b36d-57d4f385a47e"
      },
      "outputs": [
        {
          "output_type": "execute_result",
          "data": {
            "text/plain": [
              "0.1314372295072298"
            ]
          },
          "metadata": {},
          "execution_count": 8
        }
      ],
      "source": [
        "p_value"
      ]
    },
    {
      "cell_type": "code",
      "execution_count": null,
      "id": "de76e716",
      "metadata": {
        "colab": {
          "base_uri": "https://localhost:8080/"
        },
        "id": "de76e716",
        "outputId": "8408c7b4-9d78-412a-ff94-2c58a929af50"
      },
      "outputs": [
        {
          "output_type": "stream",
          "name": "stdout",
          "text": [
            "Alternative hypothesis accepted\n"
          ]
        }
      ],
      "source": [
        "if p_value < 0.05:\n",
        "    print(\"Null hypothesis rejected\")\n",
        "else:\n",
        "    print(\"Alternative hypothesis accepted\")"
      ]
    },
    {
      "cell_type": "code",
      "execution_count": null,
      "id": "acc5927d",
      "metadata": {
        "id": "acc5927d"
      },
      "outputs": [],
      "source": [
        "import numpy as np\n",
        "import pandas as pd\n",
        "import scipy.stats as stats\n",
        "import math\n",
        "np.random.seed(6)\n",
        "school_ages=stats.poisson.rvs(loc=18,mu=35,size=1500)\n",
        "classA_ages=stats.poisson.rvs(loc=18,mu=30,size=60)"
      ]
    },
    {
      "cell_type": "code",
      "execution_count": null,
      "id": "85ab389c",
      "metadata": {
        "colab": {
          "base_uri": "https://localhost:8080/"
        },
        "id": "85ab389c",
        "outputId": "dd897083-1aa1-4c49-9de1-77c025895a9f"
      },
      "outputs": [
        {
          "output_type": "execute_result",
          "data": {
            "text/plain": [
              "53.303333333333335"
            ]
          },
          "metadata": {},
          "execution_count": 11
        }
      ],
      "source": [
        "school_ages.mean()"
      ]
    },
    {
      "cell_type": "code",
      "execution_count": null,
      "id": "7778aec1",
      "metadata": {
        "id": "7778aec1"
      },
      "outputs": [],
      "source": [
        "_,p_value=stats.ttest_1samp(a=classA_ages,popmean=school_ages.mean())"
      ]
    },
    {
      "cell_type": "code",
      "execution_count": null,
      "id": "61766c8f",
      "metadata": {
        "colab": {
          "base_uri": "https://localhost:8080/"
        },
        "id": "61766c8f",
        "outputId": "15ee3334-18ad-4c3a-fd42-41c18c377bb7"
      },
      "outputs": [
        {
          "output_type": "execute_result",
          "data": {
            "text/plain": [
              "1.139027071016194e-13"
            ]
          },
          "metadata": {},
          "execution_count": 13
        }
      ],
      "source": [
        "p_value"
      ]
    },
    {
      "cell_type": "code",
      "execution_count": null,
      "id": "d795fa5b",
      "metadata": {
        "colab": {
          "base_uri": "https://localhost:8080/"
        },
        "id": "d795fa5b",
        "outputId": "a17ffe1e-9523-41f2-8bd5-b212b22b8632"
      },
      "outputs": [
        {
          "output_type": "stream",
          "name": "stdout",
          "text": [
            "Null hypothesis accepted \n"
          ]
        }
      ],
      "source": [
        "if p_value < 0.05:\n",
        "    print(\"Null hypothesis accepted \")\n",
        "else:\n",
        "    print(\"Null hypothesis rejected,Alternative hypothesis accepted\")"
      ]
    },
    {
      "cell_type": "code",
      "execution_count": null,
      "id": "3e2acd70",
      "metadata": {
        "colab": {
          "base_uri": "https://localhost:8080/"
        },
        "id": "3e2acd70",
        "outputId": "664312e8-718f-4d41-bd54-8951fe2f70a2"
      },
      "outputs": [
        {
          "output_type": "execute_result",
          "data": {
            "text/plain": [
              "50.63333333333333"
            ]
          },
          "metadata": {},
          "execution_count": 16
        }
      ],
      "source": [
        "np.random.seed(12)\n",
        "ClassB_ages=stats.poisson.rvs(loc=18,mu=33,size=60)\n",
        "ClassB_ages.mean()"
      ]
    },
    {
      "cell_type": "code",
      "execution_count": null,
      "id": "88a8cd30",
      "metadata": {
        "colab": {
          "base_uri": "https://localhost:8080/"
        },
        "id": "88a8cd30",
        "outputId": "84d79356-984e-4f55-bb07-05eff1262cbb"
      },
      "outputs": [
        {
          "output_type": "execute_result",
          "data": {
            "text/plain": [
              "0.00039942095100859375"
            ]
          },
          "metadata": {},
          "execution_count": 17
        }
      ],
      "source": [
        "_,p_value=stats.ttest_ind(a=classA_ages,b=ClassB_ages,equal_var=False)\n",
        "p_value"
      ]
    },
    {
      "cell_type": "code",
      "execution_count": null,
      "id": "ab1b5cd3",
      "metadata": {
        "colab": {
          "base_uri": "https://localhost:8080/"
        },
        "id": "ab1b5cd3",
        "outputId": "169e1291-b8c3-42d8-c33c-208b49f9bcb6"
      },
      "outputs": [
        {
          "output_type": "stream",
          "name": "stdout",
          "text": [
            "Null hypothesis accepted \n"
          ]
        }
      ],
      "source": [
        "if p_value < 0.05:\n",
        "    print(\"Null hypothesis accepted \")\n",
        "else:\n",
        "    print(\"Null hypothesis rejected,Alternative hypothesis accepted\")"
      ]
    },
    {
      "cell_type": "code",
      "execution_count": null,
      "id": "ad483738",
      "metadata": {
        "id": "ad483738"
      },
      "outputs": [],
      "source": [
        "weight1=[25,30,28,35,28,34,26,29,30,26,28,32,31,30,45]\n",
        "weight2= weight1 + stats.norm.rvs (scale=5,loc=-1.25,size=15)"
      ]
    },
    {
      "cell_type": "code",
      "execution_count": null,
      "id": "07880b2f",
      "metadata": {
        "colab": {
          "base_uri": "https://localhost:8080/"
        },
        "id": "07880b2f",
        "outputId": "5bc3b978-189c-42d7-b2a5-bda309104c48"
      },
      "outputs": [
        {
          "output_type": "stream",
          "name": "stdout",
          "text": [
            "[25, 30, 28, 35, 28, 34, 26, 29, 30, 26, 28, 32, 31, 30, 45]\n",
            "[30.57926457 34.91022437 29.00444617 30.54295091 19.86201983 37.57873174\n",
            " 18.3299827  21.3771395  36.36420881 32.05941216 26.93827982 29.519014\n",
            " 26.42851213 30.50667769 41.32984284]\n"
          ]
        }
      ],
      "source": [
        "print(weight1)\n",
        "print(weight2)"
      ]
    },
    {
      "cell_type": "code",
      "execution_count": null,
      "id": "709eee46",
      "metadata": {
        "id": "709eee46"
      },
      "outputs": [],
      "source": [
        "weight_df = pd.DataFrame({\"weight_10\" : np.array(weight1),\n",
        "                          \"weight_20\" : np.array(weight2),\n",
        "                          \"wei_diff\" : np.array(weight1) - np.array(weight2)})"
      ]
    },
    {
      "cell_type": "code",
      "execution_count": null,
      "id": "39fb9c25",
      "metadata": {
        "colab": {
          "base_uri": "https://localhost:8080/",
          "height": 519
        },
        "id": "39fb9c25",
        "outputId": "0a1b7ebf-9da4-477b-efc0-93fbd87cee87"
      },
      "outputs": [
        {
          "output_type": "execute_result",
          "data": {
            "text/plain": [
              "    weight_10  weight_20  wei_diff\n",
              "0          25  30.579265 -5.579265\n",
              "1          30  34.910224 -4.910224\n",
              "2          28  29.004446 -1.004446\n",
              "3          35  30.542951  4.457049\n",
              "4          28  19.862020  8.137980\n",
              "5          34  37.578732 -3.578732\n",
              "6          26  18.329983  7.670017\n",
              "7          29  21.377139  7.622861\n",
              "8          30  36.364209 -6.364209\n",
              "9          26  32.059412 -6.059412\n",
              "10         28  26.938280  1.061720\n",
              "11         32  29.519014  2.480986\n",
              "12         31  26.428512  4.571488\n",
              "13         30  30.506678 -0.506678\n",
              "14         45  41.329843  3.670157"
            ],
            "text/html": [
              "\n",
              "  <div id=\"df-7ea1e113-3525-47cb-8758-b773d0f99038\">\n",
              "    <div class=\"colab-df-container\">\n",
              "      <div>\n",
              "<style scoped>\n",
              "    .dataframe tbody tr th:only-of-type {\n",
              "        vertical-align: middle;\n",
              "    }\n",
              "\n",
              "    .dataframe tbody tr th {\n",
              "        vertical-align: top;\n",
              "    }\n",
              "\n",
              "    .dataframe thead th {\n",
              "        text-align: right;\n",
              "    }\n",
              "</style>\n",
              "<table border=\"1\" class=\"dataframe\">\n",
              "  <thead>\n",
              "    <tr style=\"text-align: right;\">\n",
              "      <th></th>\n",
              "      <th>weight_10</th>\n",
              "      <th>weight_20</th>\n",
              "      <th>wei_diff</th>\n",
              "    </tr>\n",
              "  </thead>\n",
              "  <tbody>\n",
              "    <tr>\n",
              "      <th>0</th>\n",
              "      <td>25</td>\n",
              "      <td>30.579265</td>\n",
              "      <td>-5.579265</td>\n",
              "    </tr>\n",
              "    <tr>\n",
              "      <th>1</th>\n",
              "      <td>30</td>\n",
              "      <td>34.910224</td>\n",
              "      <td>-4.910224</td>\n",
              "    </tr>\n",
              "    <tr>\n",
              "      <th>2</th>\n",
              "      <td>28</td>\n",
              "      <td>29.004446</td>\n",
              "      <td>-1.004446</td>\n",
              "    </tr>\n",
              "    <tr>\n",
              "      <th>3</th>\n",
              "      <td>35</td>\n",
              "      <td>30.542951</td>\n",
              "      <td>4.457049</td>\n",
              "    </tr>\n",
              "    <tr>\n",
              "      <th>4</th>\n",
              "      <td>28</td>\n",
              "      <td>19.862020</td>\n",
              "      <td>8.137980</td>\n",
              "    </tr>\n",
              "    <tr>\n",
              "      <th>5</th>\n",
              "      <td>34</td>\n",
              "      <td>37.578732</td>\n",
              "      <td>-3.578732</td>\n",
              "    </tr>\n",
              "    <tr>\n",
              "      <th>6</th>\n",
              "      <td>26</td>\n",
              "      <td>18.329983</td>\n",
              "      <td>7.670017</td>\n",
              "    </tr>\n",
              "    <tr>\n",
              "      <th>7</th>\n",
              "      <td>29</td>\n",
              "      <td>21.377139</td>\n",
              "      <td>7.622861</td>\n",
              "    </tr>\n",
              "    <tr>\n",
              "      <th>8</th>\n",
              "      <td>30</td>\n",
              "      <td>36.364209</td>\n",
              "      <td>-6.364209</td>\n",
              "    </tr>\n",
              "    <tr>\n",
              "      <th>9</th>\n",
              "      <td>26</td>\n",
              "      <td>32.059412</td>\n",
              "      <td>-6.059412</td>\n",
              "    </tr>\n",
              "    <tr>\n",
              "      <th>10</th>\n",
              "      <td>28</td>\n",
              "      <td>26.938280</td>\n",
              "      <td>1.061720</td>\n",
              "    </tr>\n",
              "    <tr>\n",
              "      <th>11</th>\n",
              "      <td>32</td>\n",
              "      <td>29.519014</td>\n",
              "      <td>2.480986</td>\n",
              "    </tr>\n",
              "    <tr>\n",
              "      <th>12</th>\n",
              "      <td>31</td>\n",
              "      <td>26.428512</td>\n",
              "      <td>4.571488</td>\n",
              "    </tr>\n",
              "    <tr>\n",
              "      <th>13</th>\n",
              "      <td>30</td>\n",
              "      <td>30.506678</td>\n",
              "      <td>-0.506678</td>\n",
              "    </tr>\n",
              "    <tr>\n",
              "      <th>14</th>\n",
              "      <td>45</td>\n",
              "      <td>41.329843</td>\n",
              "      <td>3.670157</td>\n",
              "    </tr>\n",
              "  </tbody>\n",
              "</table>\n",
              "</div>\n",
              "      <button class=\"colab-df-convert\" onclick=\"convertToInteractive('df-7ea1e113-3525-47cb-8758-b773d0f99038')\"\n",
              "              title=\"Convert this dataframe to an interactive table.\"\n",
              "              style=\"display:none;\">\n",
              "        \n",
              "  <svg xmlns=\"http://www.w3.org/2000/svg\" height=\"24px\"viewBox=\"0 0 24 24\"\n",
              "       width=\"24px\">\n",
              "    <path d=\"M0 0h24v24H0V0z\" fill=\"none\"/>\n",
              "    <path d=\"M18.56 5.44l.94 2.06.94-2.06 2.06-.94-2.06-.94-.94-2.06-.94 2.06-2.06.94zm-11 1L8.5 8.5l.94-2.06 2.06-.94-2.06-.94L8.5 2.5l-.94 2.06-2.06.94zm10 10l.94 2.06.94-2.06 2.06-.94-2.06-.94-.94-2.06-.94 2.06-2.06.94z\"/><path d=\"M17.41 7.96l-1.37-1.37c-.4-.4-.92-.59-1.43-.59-.52 0-1.04.2-1.43.59L10.3 9.45l-7.72 7.72c-.78.78-.78 2.05 0 2.83L4 21.41c.39.39.9.59 1.41.59.51 0 1.02-.2 1.41-.59l7.78-7.78 2.81-2.81c.8-.78.8-2.07 0-2.86zM5.41 20L4 18.59l7.72-7.72 1.47 1.35L5.41 20z\"/>\n",
              "  </svg>\n",
              "      </button>\n",
              "      \n",
              "  <style>\n",
              "    .colab-df-container {\n",
              "      display:flex;\n",
              "      flex-wrap:wrap;\n",
              "      gap: 12px;\n",
              "    }\n",
              "\n",
              "    .colab-df-convert {\n",
              "      background-color: #E8F0FE;\n",
              "      border: none;\n",
              "      border-radius: 50%;\n",
              "      cursor: pointer;\n",
              "      display: none;\n",
              "      fill: #1967D2;\n",
              "      height: 32px;\n",
              "      padding: 0 0 0 0;\n",
              "      width: 32px;\n",
              "    }\n",
              "\n",
              "    .colab-df-convert:hover {\n",
              "      background-color: #E2EBFA;\n",
              "      box-shadow: 0px 1px 2px rgba(60, 64, 67, 0.3), 0px 1px 3px 1px rgba(60, 64, 67, 0.15);\n",
              "      fill: #174EA6;\n",
              "    }\n",
              "\n",
              "    [theme=dark] .colab-df-convert {\n",
              "      background-color: #3B4455;\n",
              "      fill: #D2E3FC;\n",
              "    }\n",
              "\n",
              "    [theme=dark] .colab-df-convert:hover {\n",
              "      background-color: #434B5C;\n",
              "      box-shadow: 0px 1px 3px 1px rgba(0, 0, 0, 0.15);\n",
              "      filter: drop-shadow(0px 1px 2px rgba(0, 0, 0, 0.3));\n",
              "      fill: #FFFFFF;\n",
              "    }\n",
              "  </style>\n",
              "\n",
              "      <script>\n",
              "        const buttonEl =\n",
              "          document.querySelector('#df-7ea1e113-3525-47cb-8758-b773d0f99038 button.colab-df-convert');\n",
              "        buttonEl.style.display =\n",
              "          google.colab.kernel.accessAllowed ? 'block' : 'none';\n",
              "\n",
              "        async function convertToInteractive(key) {\n",
              "          const element = document.querySelector('#df-7ea1e113-3525-47cb-8758-b773d0f99038');\n",
              "          const dataTable =\n",
              "            await google.colab.kernel.invokeFunction('convertToInteractive',\n",
              "                                                     [key], {});\n",
              "          if (!dataTable) return;\n",
              "\n",
              "          const docLinkHtml = 'Like what you see? Visit the ' +\n",
              "            '<a target=\"_blank\" href=https://colab.research.google.com/notebooks/data_table.ipynb>data table notebook</a>'\n",
              "            + ' to learn more about interactive tables.';\n",
              "          element.innerHTML = '';\n",
              "          dataTable['output_type'] = 'display_data';\n",
              "          await google.colab.output.renderOutput(dataTable, element);\n",
              "          const docLink = document.createElement('div');\n",
              "          docLink.innerHTML = docLinkHtml;\n",
              "          element.appendChild(docLink);\n",
              "        }\n",
              "      </script>\n",
              "    </div>\n",
              "  </div>\n",
              "  "
            ]
          },
          "metadata": {},
          "execution_count": 22
        }
      ],
      "source": [
        "weight_df"
      ]
    },
    {
      "cell_type": "code",
      "execution_count": null,
      "id": "61135087",
      "metadata": {
        "id": "61135087"
      },
      "outputs": [],
      "source": [
        "_,p_value = stats.ttest_rel (a = weight1, b = weight2)"
      ]
    },
    {
      "cell_type": "code",
      "execution_count": null,
      "id": "ebcf7b2c",
      "metadata": {
        "colab": {
          "base_uri": "https://localhost:8080/"
        },
        "id": "ebcf7b2c",
        "outputId": "51dfeaa6-2cc2-48ee-a10b-7ddc544080ac"
      },
      "outputs": [
        {
          "output_type": "execute_result",
          "data": {
            "text/plain": [
              "0.5732936534411279"
            ]
          },
          "metadata": {},
          "execution_count": 24
        }
      ],
      "source": [
        "p_value"
      ]
    },
    {
      "cell_type": "code",
      "execution_count": null,
      "id": "2d27e10b",
      "metadata": {
        "colab": {
          "base_uri": "https://localhost:8080/"
        },
        "id": "2d27e10b",
        "outputId": "7bac6db3-672a-4d0d-bdff-31058001a4c4"
      },
      "outputs": [
        {
          "output_type": "stream",
          "name": "stdout",
          "text": [
            "Null hypothesis rejected,Alternative hypothesis accepted\n"
          ]
        }
      ],
      "source": [
        "if p_value < 0.05:\n",
        "    print(\"Null hypothesis accepted \")\n",
        "else:\n",
        "    print(\"Null hypothesis rejected,Alternative hypothesis accepted\")"
      ]
    },
    {
      "cell_type": "code",
      "execution_count": null,
      "id": "83547d14",
      "metadata": {
        "id": "83547d14"
      },
      "outputs": [],
      "source": [
        "import seaborn as sns"
      ]
    },
    {
      "cell_type": "code",
      "execution_count": null,
      "id": "8350b04a",
      "metadata": {
        "id": "8350b04a"
      },
      "outputs": [],
      "source": [
        "df=sns.load_dataset('iris')"
      ]
    },
    {
      "cell_type": "code",
      "execution_count": null,
      "id": "9b8102d4",
      "metadata": {
        "colab": {
          "base_uri": "https://localhost:8080/"
        },
        "id": "9b8102d4",
        "outputId": "f21e71bd-f734-4d93-c583-66f75c840bd1"
      },
      "outputs": [
        {
          "output_type": "execute_result",
          "data": {
            "text/plain": [
              "(150, 5)"
            ]
          },
          "metadata": {},
          "execution_count": 28
        }
      ],
      "source": [
        "df.shape"
      ]
    },
    {
      "cell_type": "code",
      "execution_count": null,
      "id": "cb5dcf09",
      "metadata": {
        "colab": {
          "base_uri": "https://localhost:8080/",
          "height": 174
        },
        "id": "cb5dcf09",
        "outputId": "d028ca05-d179-4dfe-f1fa-f33893d76494"
      },
      "outputs": [
        {
          "output_type": "execute_result",
          "data": {
            "text/plain": [
              "              sepal_length  sepal_width  petal_length  petal_width\n",
              "sepal_length      1.000000    -0.117570      0.871754     0.817941\n",
              "sepal_width      -0.117570     1.000000     -0.428440    -0.366126\n",
              "petal_length      0.871754    -0.428440      1.000000     0.962865\n",
              "petal_width       0.817941    -0.366126      0.962865     1.000000"
            ],
            "text/html": [
              "\n",
              "  <div id=\"df-270a4830-6b65-4ed7-b96b-913ccd0ad64a\">\n",
              "    <div class=\"colab-df-container\">\n",
              "      <div>\n",
              "<style scoped>\n",
              "    .dataframe tbody tr th:only-of-type {\n",
              "        vertical-align: middle;\n",
              "    }\n",
              "\n",
              "    .dataframe tbody tr th {\n",
              "        vertical-align: top;\n",
              "    }\n",
              "\n",
              "    .dataframe thead th {\n",
              "        text-align: right;\n",
              "    }\n",
              "</style>\n",
              "<table border=\"1\" class=\"dataframe\">\n",
              "  <thead>\n",
              "    <tr style=\"text-align: right;\">\n",
              "      <th></th>\n",
              "      <th>sepal_length</th>\n",
              "      <th>sepal_width</th>\n",
              "      <th>petal_length</th>\n",
              "      <th>petal_width</th>\n",
              "    </tr>\n",
              "  </thead>\n",
              "  <tbody>\n",
              "    <tr>\n",
              "      <th>sepal_length</th>\n",
              "      <td>1.000000</td>\n",
              "      <td>-0.117570</td>\n",
              "      <td>0.871754</td>\n",
              "      <td>0.817941</td>\n",
              "    </tr>\n",
              "    <tr>\n",
              "      <th>sepal_width</th>\n",
              "      <td>-0.117570</td>\n",
              "      <td>1.000000</td>\n",
              "      <td>-0.428440</td>\n",
              "      <td>-0.366126</td>\n",
              "    </tr>\n",
              "    <tr>\n",
              "      <th>petal_length</th>\n",
              "      <td>0.871754</td>\n",
              "      <td>-0.428440</td>\n",
              "      <td>1.000000</td>\n",
              "      <td>0.962865</td>\n",
              "    </tr>\n",
              "    <tr>\n",
              "      <th>petal_width</th>\n",
              "      <td>0.817941</td>\n",
              "      <td>-0.366126</td>\n",
              "      <td>0.962865</td>\n",
              "      <td>1.000000</td>\n",
              "    </tr>\n",
              "  </tbody>\n",
              "</table>\n",
              "</div>\n",
              "      <button class=\"colab-df-convert\" onclick=\"convertToInteractive('df-270a4830-6b65-4ed7-b96b-913ccd0ad64a')\"\n",
              "              title=\"Convert this dataframe to an interactive table.\"\n",
              "              style=\"display:none;\">\n",
              "        \n",
              "  <svg xmlns=\"http://www.w3.org/2000/svg\" height=\"24px\"viewBox=\"0 0 24 24\"\n",
              "       width=\"24px\">\n",
              "    <path d=\"M0 0h24v24H0V0z\" fill=\"none\"/>\n",
              "    <path d=\"M18.56 5.44l.94 2.06.94-2.06 2.06-.94-2.06-.94-.94-2.06-.94 2.06-2.06.94zm-11 1L8.5 8.5l.94-2.06 2.06-.94-2.06-.94L8.5 2.5l-.94 2.06-2.06.94zm10 10l.94 2.06.94-2.06 2.06-.94-2.06-.94-.94-2.06-.94 2.06-2.06.94z\"/><path d=\"M17.41 7.96l-1.37-1.37c-.4-.4-.92-.59-1.43-.59-.52 0-1.04.2-1.43.59L10.3 9.45l-7.72 7.72c-.78.78-.78 2.05 0 2.83L4 21.41c.39.39.9.59 1.41.59.51 0 1.02-.2 1.41-.59l7.78-7.78 2.81-2.81c.8-.78.8-2.07 0-2.86zM5.41 20L4 18.59l7.72-7.72 1.47 1.35L5.41 20z\"/>\n",
              "  </svg>\n",
              "      </button>\n",
              "      \n",
              "  <style>\n",
              "    .colab-df-container {\n",
              "      display:flex;\n",
              "      flex-wrap:wrap;\n",
              "      gap: 12px;\n",
              "    }\n",
              "\n",
              "    .colab-df-convert {\n",
              "      background-color: #E8F0FE;\n",
              "      border: none;\n",
              "      border-radius: 50%;\n",
              "      cursor: pointer;\n",
              "      display: none;\n",
              "      fill: #1967D2;\n",
              "      height: 32px;\n",
              "      padding: 0 0 0 0;\n",
              "      width: 32px;\n",
              "    }\n",
              "\n",
              "    .colab-df-convert:hover {\n",
              "      background-color: #E2EBFA;\n",
              "      box-shadow: 0px 1px 2px rgba(60, 64, 67, 0.3), 0px 1px 3px 1px rgba(60, 64, 67, 0.15);\n",
              "      fill: #174EA6;\n",
              "    }\n",
              "\n",
              "    [theme=dark] .colab-df-convert {\n",
              "      background-color: #3B4455;\n",
              "      fill: #D2E3FC;\n",
              "    }\n",
              "\n",
              "    [theme=dark] .colab-df-convert:hover {\n",
              "      background-color: #434B5C;\n",
              "      box-shadow: 0px 1px 3px 1px rgba(0, 0, 0, 0.15);\n",
              "      filter: drop-shadow(0px 1px 2px rgba(0, 0, 0, 0.3));\n",
              "      fill: #FFFFFF;\n",
              "    }\n",
              "  </style>\n",
              "\n",
              "      <script>\n",
              "        const buttonEl =\n",
              "          document.querySelector('#df-270a4830-6b65-4ed7-b96b-913ccd0ad64a button.colab-df-convert');\n",
              "        buttonEl.style.display =\n",
              "          google.colab.kernel.accessAllowed ? 'block' : 'none';\n",
              "\n",
              "        async function convertToInteractive(key) {\n",
              "          const element = document.querySelector('#df-270a4830-6b65-4ed7-b96b-913ccd0ad64a');\n",
              "          const dataTable =\n",
              "            await google.colab.kernel.invokeFunction('convertToInteractive',\n",
              "                                                     [key], {});\n",
              "          if (!dataTable) return;\n",
              "\n",
              "          const docLinkHtml = 'Like what you see? Visit the ' +\n",
              "            '<a target=\"_blank\" href=https://colab.research.google.com/notebooks/data_table.ipynb>data table notebook</a>'\n",
              "            + ' to learn more about interactive tables.';\n",
              "          element.innerHTML = '';\n",
              "          dataTable['output_type'] = 'display_data';\n",
              "          await google.colab.output.renderOutput(dataTable, element);\n",
              "          const docLink = document.createElement('div');\n",
              "          docLink.innerHTML = docLinkHtml;\n",
              "          element.appendChild(docLink);\n",
              "        }\n",
              "      </script>\n",
              "    </div>\n",
              "  </div>\n",
              "  "
            ]
          },
          "metadata": {},
          "execution_count": 29
        }
      ],
      "source": [
        "df.corr()"
      ]
    },
    {
      "cell_type": "code",
      "execution_count": null,
      "id": "3fa172d4",
      "metadata": {
        "colab": {
          "base_uri": "https://localhost:8080/",
          "height": 743
        },
        "id": "3fa172d4",
        "outputId": "171d5058-e88f-460e-9520-8b0b4fccbc4d"
      },
      "outputs": [
        {
          "output_type": "execute_result",
          "data": {
            "text/plain": [
              "<seaborn.axisgrid.PairGrid at 0x7ff86e20f1f0>"
            ]
          },
          "metadata": {},
          "execution_count": 30
        },
        {
          "output_type": "display_data",
          "data": {
            "text/plain": [
              "<Figure size 720x720 with 20 Axes>"
            ],
            "image/png": "[encoded data removed]"
          },
          "metadata": {
            "needs_background": "light"
          }
        }
      ],
      "source": [
        "sns.pairplot(df)"
      ]
    },
    {
      "cell_type": "code",
      "execution_count": null,
      "id": "c38289fc",
      "metadata": {
        "colab": {
          "base_uri": "https://localhost:8080/",
          "height": 282
        },
        "id": "c38289fc",
        "outputId": "76d133f6-4ec8-4021-ba17-e6d2cf6a2fa0"
      },
      "outputs": [
        {
          "output_type": "execute_result",
          "data": {
            "text/plain": [
              "<AxesSubplot:ylabel='Density'>"
            ]
          },
          "metadata": {},
          "execution_count": 31
        },
        {
          "output_type": "display_data",
          "data": {
            "text/plain": [
              "<Figure size 432x288 with 1 Axes>"
            ],
            "image/png": "[encoded data removed]"
          },
          "metadata": {
            "needs_background": "light"
          }
        }
      ],
      "source": [
        "df.plot.kde()"
      ]
    },
    {
      "cell_type": "code",
      "execution_count": null,
      "id": "0c0751dd",
      "metadata": {
        "colab": {
          "base_uri": "https://localhost:8080/",
          "height": 282
        },
        "id": "0c0751dd",
        "outputId": "11c7a6c1-a827-446f-d111-fe2b1666e29e"
      },
      "outputs": [
        {
          "output_type": "execute_result",
          "data": {
            "text/plain": [
              "<AxesSubplot:ylabel='Density'>"
            ]
          },
          "metadata": {},
          "execution_count": 32
        },
        {
          "output_type": "display_data",
          "data": {
            "text/plain": [
              "<Figure size 432x288 with 1 Axes>"
            ],
            "image/png": "[encoded data removed]"
          },
          "metadata": {
            "needs_background": "light"
          }
        }
      ],
      "source": [
        "df['sepal_length'].plot.kde()"
      ]
    },
    {
      "cell_type": "markdown",
      "source": [
        "**Anova Test(F-Test)**"
      ],
      "metadata": {
        "id": "NYyuiAr4Rv_8"
      },
      "id": "NYyuiAr4Rv_8"
    },
    {
      "cell_type": "code",
      "execution_count": null,
      "id": "9fd6d26b",
      "metadata": {
        "colab": {
          "base_uri": "https://localhost:8080/",
          "height": 53
        },
        "id": "9fd6d26b",
        "outputId": "34e974dd-d60a-42db-efa3-2c7d0b9de23c"
      },
      "outputs": [
        {
          "output_type": "execute_result",
          "data": {
            "text/plain": [
              "'The t-test works well when dealing with two groups, but sometimes we want to compare more than two groups at the same time.\\n\\nFor example, if we wanted to test whether petal_width age differs based on some categorical variable like species,\\nwe have to compare the means of each level or group the variable'"
            ],
            "application/vnd.google.colaboratory.intrinsic+json": {
              "type": "string"
            }
          },
          "metadata": {},
          "execution_count": 67
        }
      ],
      "source": [
        "\"\"\"The t-test works well when dealing with two groups, but sometimes we want to compare more than two groups at the same time.\n",
        "\n",
        "For example, if we wanted to test whether petal_width age differs based on some categorical variable like species,\n",
        "we have to compare the means of each level or group the variable\"\"\""
      ]
    },
    {
      "cell_type": "code",
      "execution_count": null,
      "id": "0d4887f3",
      "metadata": {
        "colab": {
          "base_uri": "https://localhost:8080/",
          "height": 53
        },
        "id": "0d4887f3",
        "outputId": "17c45807-4bfd-41d3-a7af-ec48ce99013f"
      },
      "outputs": [
        {
          "output_type": "execute_result",
          "data": {
            "text/plain": [
              "'One Way F-test(Anova) :-\\n\\nIt tell whether two or more groups are similar or not based on their mean similarity and f-score.\\n\\nExample : there are 3 different category of iris flowers and their petal width and need to check whether all 3 group are similar or not'"
            ],
            "application/vnd.google.colaboratory.intrinsic+json": {
              "type": "string"
            }
          },
          "metadata": {},
          "execution_count": 68
        }
      ],
      "source": [
        "\"\"\"One Way F-test(Anova) :-\n",
        "\n",
        "It tell whether two or more groups are similar or not based on their mean similarity and f-score.\n",
        "\n",
        "Example : there are 3 different category of iris flowers and their petal width and need to check whether all 3 group are similar or not\"\"\""
      ]
    },
    {
      "cell_type": "code",
      "execution_count": null,
      "id": "3ad0e94c",
      "metadata": {
        "id": "3ad0e94c"
      },
      "outputs": [],
      "source": [
        "df1 = sns.load_dataset('iris')\n",
        "df_anova = df1[['species','petal_width']]"
      ]
    },
    {
      "cell_type": "code",
      "execution_count": null,
      "id": "bb92c648",
      "metadata": {
        "colab": {
          "base_uri": "https://localhost:8080/",
          "height": 423
        },
        "id": "bb92c648",
        "outputId": "fb1252f6-c098-4dbf-ab4d-28d832e8b85d"
      },
      "outputs": [
        {
          "output_type": "execute_result",
          "data": {
            "text/plain": [
              "       species  petal_width\n",
              "0       setosa          0.2\n",
              "1       setosa          0.2\n",
              "2       setosa          0.2\n",
              "3       setosa          0.2\n",
              "4       setosa          0.2\n",
              "..         ...          ...\n",
              "145  virginica          2.3\n",
              "146  virginica          1.9\n",
              "147  virginica          2.0\n",
              "148  virginica          2.3\n",
              "149  virginica          1.8\n",
              "\n",
              "[150 rows x 2 columns]"
            ],
            "text/html": [
              "\n",
              "  <div id=\"df-3f2f286b-42c2-4ee8-9a92-2a0cdedc5d7c\">\n",
              "    <div class=\"colab-df-container\">\n",
              "      <div>\n",
              "<style scoped>\n",
              "    .dataframe tbody tr th:only-of-type {\n",
              "        vertical-align: middle;\n",
              "    }\n",
              "\n",
              "    .dataframe tbody tr th {\n",
              "        vertical-align: top;\n",
              "    }\n",
              "\n",
              "    .dataframe thead th {\n",
              "        text-align: right;\n",
              "    }\n",
              "</style>\n",
              "<table border=\"1\" class=\"dataframe\">\n",
              "  <thead>\n",
              "    <tr style=\"text-align: right;\">\n",
              "      <th></th>\n",
              "      <th>species</th>\n",
              "      <th>petal_width</th>\n",
              "    </tr>\n",
              "  </thead>\n",
              "  <tbody>\n",
              "    <tr>\n",
              "      <th>0</th>\n",
              "      <td>setosa</td>\n",
              "      <td>0.2</td>\n",
              "    </tr>\n",
              "    <tr>\n",
              "      <th>1</th>\n",
              "      <td>setosa</td>\n",
              "      <td>0.2</td>\n",
              "    </tr>\n",
              "    <tr>\n",
              "      <th>2</th>\n",
              "      <td>setosa</td>\n",
              "      <td>0.2</td>\n",
              "    </tr>\n",
              "    <tr>\n",
              "      <th>3</th>\n",
              "      <td>setosa</td>\n",
              "      <td>0.2</td>\n",
              "    </tr>\n",
              "    <tr>\n",
              "      <th>4</th>\n",
              "      <td>setosa</td>\n",
              "      <td>0.2</td>\n",
              "    </tr>\n",
              "    <tr>\n",
              "      <th>...</th>\n",
              "      <td>...</td>\n",
              "      <td>...</td>\n",
              "    </tr>\n",
              "    <tr>\n",
              "      <th>145</th>\n",
              "      <td>virginica</td>\n",
              "      <td>2.3</td>\n",
              "    </tr>\n",
              "    <tr>\n",
              "      <th>146</th>\n",
              "      <td>virginica</td>\n",
              "      <td>1.9</td>\n",
              "    </tr>\n",
              "    <tr>\n",
              "      <th>147</th>\n",
              "      <td>virginica</td>\n",
              "      <td>2.0</td>\n",
              "    </tr>\n",
              "    <tr>\n",
              "      <th>148</th>\n",
              "      <td>virginica</td>\n",
              "      <td>2.3</td>\n",
              "    </tr>\n",
              "    <tr>\n",
              "      <th>149</th>\n",
              "      <td>virginica</td>\n",
              "      <td>1.8</td>\n",
              "    </tr>\n",
              "  </tbody>\n",
              "</table>\n",
              "<p>150 rows × 2 columns</p>\n",
              "</div>\n",
              "      <button class=\"colab-df-convert\" onclick=\"convertToInteractive('df-3f2f286b-42c2-4ee8-9a92-2a0cdedc5d7c')\"\n",
              "              title=\"Convert this dataframe to an interactive table.\"\n",
              "              style=\"display:none;\">\n",
              "        \n",
              "  <svg xmlns=\"http://www.w3.org/2000/svg\" height=\"24px\"viewBox=\"0 0 24 24\"\n",
              "       width=\"24px\">\n",
              "    <path d=\"M0 0h24v24H0V0z\" fill=\"none\"/>\n",
              "    <path d=\"M18.56 5.44l.94 2.06.94-2.06 2.06-.94-2.06-.94-.94-2.06-.94 2.06-2.06.94zm-11 1L8.5 8.5l.94-2.06 2.06-.94-2.06-.94L8.5 2.5l-.94 2.06-2.06.94zm10 10l.94 2.06.94-2.06 2.06-.94-2.06-.94-.94-2.06-.94 2.06-2.06.94z\"/><path d=\"M17.41 7.96l-1.37-1.37c-.4-.4-.92-.59-1.43-.59-.52 0-1.04.2-1.43.59L10.3 9.45l-7.72 7.72c-.78.78-.78 2.05 0 2.83L4 21.41c.39.39.9.59 1.41.59.51 0 1.02-.2 1.41-.59l7.78-7.78 2.81-2.81c.8-.78.8-2.07 0-2.86zM5.41 20L4 18.59l7.72-7.72 1.47 1.35L5.41 20z\"/>\n",
              "  </svg>\n",
              "      </button>\n",
              "      \n",
              "  <style>\n",
              "    .colab-df-container {\n",
              "      display:flex;\n",
              "      flex-wrap:wrap;\n",
              "      gap: 12px;\n",
              "    }\n",
              "\n",
              "    .colab-df-convert {\n",
              "      background-color: #E8F0FE;\n",
              "      border: none;\n",
              "      border-radius: 50%;\n",
              "      cursor: pointer;\n",
              "      display: none;\n",
              "      fill: #1967D2;\n",
              "      height: 32px;\n",
              "      padding: 0 0 0 0;\n",
              "      width: 32px;\n",
              "    }\n",
              "\n",
              "    .colab-df-convert:hover {\n",
              "      background-color: #E2EBFA;\n",
              "      box-shadow: 0px 1px 2px rgba(60, 64, 67, 0.3), 0px 1px 3px 1px rgba(60, 64, 67, 0.15);\n",
              "      fill: #174EA6;\n",
              "    }\n",
              "\n",
              "    [theme=dark] .colab-df-convert {\n",
              "      background-color: #3B4455;\n",
              "      fill: #D2E3FC;\n",
              "    }\n",
              "\n",
              "    [theme=dark] .colab-df-convert:hover {\n",
              "      background-color: #434B5C;\n",
              "      box-shadow: 0px 1px 3px 1px rgba(0, 0, 0, 0.15);\n",
              "      filter: drop-shadow(0px 1px 2px rgba(0, 0, 0, 0.3));\n",
              "      fill: #FFFFFF;\n",
              "    }\n",
              "  </style>\n",
              "\n",
              "      <script>\n",
              "        const buttonEl =\n",
              "          document.querySelector('#df-3f2f286b-42c2-4ee8-9a92-2a0cdedc5d7c button.colab-df-convert');\n",
              "        buttonEl.style.display =\n",
              "          google.colab.kernel.accessAllowed ? 'block' : 'none';\n",
              "\n",
              "        async function convertToInteractive(key) {\n",
              "          const element = document.querySelector('#df-3f2f286b-42c2-4ee8-9a92-2a0cdedc5d7c');\n",
              "          const dataTable =\n",
              "            await google.colab.kernel.invokeFunction('convertToInteractive',\n",
              "                                                     [key], {});\n",
              "          if (!dataTable) return;\n",
              "\n",
              "          const docLinkHtml = 'Like what you see? Visit the ' +\n",
              "            '<a target=\"_blank\" href=https://colab.research.google.com/notebooks/data_table.ipynb>data table notebook</a>'\n",
              "            + ' to learn more about interactive tables.';\n",
              "          element.innerHTML = '';\n",
              "          dataTable['output_type'] = 'display_data';\n",
              "          await google.colab.output.renderOutput(dataTable, element);\n",
              "          const docLink = document.createElement('div');\n",
              "          docLink.innerHTML = docLinkHtml;\n",
              "          element.appendChild(docLink);\n",
              "        }\n",
              "      </script>\n",
              "    </div>\n",
              "  </div>\n",
              "  "
            ]
          },
          "metadata": {},
          "execution_count": 50
        }
      ],
      "source": [
        "df_anova  # species is catagorical contain more than 2 catagories variables and petal width is contineous variable to calculate annova"
      ]
    },
    {
      "cell_type": "code",
      "execution_count": null,
      "id": "337a3057",
      "metadata": {
        "colab": {
          "base_uri": "https://localhost:8080/"
        },
        "id": "337a3057",
        "outputId": "aae1acf2-6310-4c0d-85c6-e119237d3c14"
      },
      "outputs": [
        {
          "output_type": "execute_result",
          "data": {
            "text/plain": [
              "array(['setosa', 'versicolor', 'virginica'], dtype=object)"
            ]
          },
          "metadata": {},
          "execution_count": 57
        }
      ],
      "source": [
        "grps = pd.unique(df_anova.species.values)\n",
        "grps\n"
      ]
    },
    {
      "cell_type": "code",
      "execution_count": null,
      "id": "986b2c95",
      "metadata": {
        "colab": {
          "base_uri": "https://localhost:8080/"
        },
        "id": "986b2c95",
        "outputId": "d8540aea-1441-4217-dbec-c44aa3be082a"
      },
      "outputs": [
        {
          "output_type": "execute_result",
          "data": {
            "text/plain": [
              "{'setosa': 0     0.2\n",
              " 1     0.2\n",
              " 2     0.2\n",
              " 3     0.2\n",
              " 4     0.2\n",
              " 5     0.4\n",
              " 6     0.3\n",
              " 7     0.2\n",
              " 8     0.2\n",
              " 9     0.1\n",
              " 10    0.2\n",
              " 11    0.2\n",
              " 12    0.1\n",
              " 13    0.1\n",
              " 14    0.2\n",
              " 15    0.4\n",
              " 16    0.4\n",
              " 17    0.3\n",
              " 18    0.3\n",
              " 19    0.3\n",
              " 20    0.2\n",
              " 21    0.4\n",
              " 22    0.2\n",
              " 23    0.5\n",
              " 24    0.2\n",
              " 25    0.2\n",
              " 26    0.4\n",
              " 27    0.2\n",
              " 28    0.2\n",
              " 29    0.2\n",
              " 30    0.2\n",
              " 31    0.4\n",
              " 32    0.1\n",
              " 33    0.2\n",
              " 34    0.2\n",
              " 35    0.2\n",
              " 36    0.2\n",
              " 37    0.1\n",
              " 38    0.2\n",
              " 39    0.2\n",
              " 40    0.3\n",
              " 41    0.3\n",
              " 42    0.2\n",
              " 43    0.6\n",
              " 44    0.4\n",
              " 45    0.3\n",
              " 46    0.2\n",
              " 47    0.2\n",
              " 48    0.2\n",
              " 49    0.2\n",
              " Name: petal_width, dtype: float64, 'versicolor': 50    1.4\n",
              " 51    1.5\n",
              " 52    1.5\n",
              " 53    1.3\n",
              " 54    1.5\n",
              " 55    1.3\n",
              " 56    1.6\n",
              " 57    1.0\n",
              " 58    1.3\n",
              " 59    1.4\n",
              " 60    1.0\n",
              " 61    1.5\n",
              " 62    1.0\n",
              " 63    1.4\n",
              " 64    1.3\n",
              " 65    1.4\n",
              " 66    1.5\n",
              " 67    1.0\n",
              " 68    1.5\n",
              " 69    1.1\n",
              " 70    1.8\n",
              " 71    1.3\n",
              " 72    1.5\n",
              " 73    1.2\n",
              " 74    1.3\n",
              " 75    1.4\n",
              " 76    1.4\n",
              " 77    1.7\n",
              " 78    1.5\n",
              " 79    1.0\n",
              " 80    1.1\n",
              " 81    1.0\n",
              " 82    1.2\n",
              " 83    1.6\n",
              " 84    1.5\n",
              " 85    1.6\n",
              " 86    1.5\n",
              " 87    1.3\n",
              " 88    1.3\n",
              " 89    1.3\n",
              " 90    1.2\n",
              " 91    1.4\n",
              " 92    1.2\n",
              " 93    1.0\n",
              " 94    1.3\n",
              " 95    1.2\n",
              " 96    1.3\n",
              " 97    1.3\n",
              " 98    1.1\n",
              " 99    1.3\n",
              " Name: petal_width, dtype: float64, 'virginica': 100    2.5\n",
              " 101    1.9\n",
              " 102    2.1\n",
              " 103    1.8\n",
              " 104    2.2\n",
              " 105    2.1\n",
              " 106    1.7\n",
              " 107    1.8\n",
              " 108    1.8\n",
              " 109    2.5\n",
              " 110    2.0\n",
              " 111    1.9\n",
              " 112    2.1\n",
              " 113    2.0\n",
              " 114    2.4\n",
              " 115    2.3\n",
              " 116    1.8\n",
              " 117    2.2\n",
              " 118    2.3\n",
              " 119    1.5\n",
              " 120    2.3\n",
              " 121    2.0\n",
              " 122    2.0\n",
              " 123    1.8\n",
              " 124    2.1\n",
              " 125    1.8\n",
              " 126    1.8\n",
              " 127    1.8\n",
              " 128    2.1\n",
              " 129    1.6\n",
              " 130    1.9\n",
              " 131    2.0\n",
              " 132    2.2\n",
              " 133    1.5\n",
              " 134    1.4\n",
              " 135    2.3\n",
              " 136    2.4\n",
              " 137    1.8\n",
              " 138    1.8\n",
              " 139    2.1\n",
              " 140    2.4\n",
              " 141    2.3\n",
              " 142    1.9\n",
              " 143    2.3\n",
              " 144    2.5\n",
              " 145    2.3\n",
              " 146    1.9\n",
              " 147    2.0\n",
              " 148    2.3\n",
              " 149    1.8\n",
              " Name: petal_width, dtype: float64}"
            ]
          },
          "metadata": {},
          "execution_count": 62
        }
      ],
      "source": [
        "d_data = {grp : df_anova['petal_width'][df_anova.species == grp] for grp in grps}\n",
        "d_data"
      ]
    },
    {
      "cell_type": "code",
      "execution_count": null,
      "id": "7852ef09",
      "metadata": {
        "id": "7852ef09"
      },
      "outputs": [],
      "source": [
        "f,p = stats.f_oneway(d_data['setosa'],d_data['versicolor'],d_data['virginica'])"
      ]
    },
    {
      "cell_type": "code",
      "execution_count": null,
      "id": "19b06688",
      "metadata": {
        "colab": {
          "base_uri": "https://localhost:8080/"
        },
        "id": "19b06688",
        "outputId": "43d864f6-2a1c-4c41-d64f-6ec9bd41e542"
      },
      "outputs": [
        {
          "output_type": "execute_result",
          "data": {
            "text/plain": [
              "4.169445839443116e-85"
            ]
          },
          "metadata": {},
          "execution_count": 64
        }
      ],
      "source": [
        "p"
      ]
    },
    {
      "cell_type": "code",
      "execution_count": null,
      "id": "ba8ef7ae",
      "metadata": {
        "colab": {
          "base_uri": "https://localhost:8080/"
        },
        "id": "ba8ef7ae",
        "outputId": "01b994b4-8837-4b6e-d8be-683227d9d0bf"
      },
      "outputs": [
        {
          "output_type": "stream",
          "name": "stdout",
          "text": [
            "Null Rejected\n"
          ]
        }
      ],
      "source": [
        "if p < 0.05:\n",
        "  print(\"Null Rejected\")\n",
        "else:\n",
        "  print(\"Alternative accepted\")"
      ]
    },
    {
      "cell_type": "code",
      "execution_count": null,
      "id": "88fe0887",
      "metadata": {
        "id": "88fe0887"
      },
      "outputs": [],
      "source": []
    },
    {
      "cell_type": "code",
      "execution_count": null,
      "id": "30224716",
      "metadata": {
        "id": "30224716"
      },
      "outputs": [],
      "source": []
    }
  ],
  "metadata": {
    "kernelspec": {
      "display_name": "Python 3 (ipykernel)",
      "language": "python",
      "name": "python3"
    },
    "language_info": {
      "codemirror_mode": {
        "name": "ipython",
        "version": 3
      },
      "file_extension": ".py",
      "mimetype": "text/x-python",
      "name": "python",
      "nbconvert_exporter": "python",
      "pygments_lexer": "ipython3",
      "version": "3.9.16"
    },
    "colab": {
      "provenance": [],
      "include_colab_link": true
    }
  },
  "nbformat": 4,
  "nbformat_minor": 5
}